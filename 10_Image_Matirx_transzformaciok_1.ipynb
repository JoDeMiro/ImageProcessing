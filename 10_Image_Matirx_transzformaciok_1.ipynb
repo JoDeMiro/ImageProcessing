{
  "nbformat": 4,
  "nbformat_minor": 0,
  "metadata": {
    "kernelspec": {
      "display_name": "Python 3",
      "language": "python",
      "name": "python3"
    },
    "language_info": {
      "codemirror_mode": {
        "name": "ipython",
        "version": 3
      },
      "file_extension": ".py",
      "mimetype": "text/x-python",
      "name": "python",
      "nbconvert_exporter": "python",
      "pygments_lexer": "ipython3",
      "version": "3.7.7"
    },
    "colab": {
      "name": "10 - Image - Matirx transzformaciok 1.ipynb",
      "provenance": [],
      "collapsed_sections": [],
      "include_colab_link": true
    }
  },
  "cells": [
    {
      "cell_type": "markdown",
      "metadata": {
        "id": "view-in-github",
        "colab_type": "text"
      },
      "source": [
        "<a href=\"https://colab.research.google.com/github/JoDeMiro/ImageProcessing/blob/main/10_Image_Matirx_transzformaciok_1.ipynb\" target=\"_parent\"><img src=\"https://colab.research.google.com/assets/colab-badge.svg\" alt=\"Open In Colab\"/></a>"
      ]
    },
    {
      "cell_type": "markdown",
      "metadata": {
        "id": "r6wPD-MHRnZF"
      },
      "source": [
        "# 2D Mátrix traszformációk\n"
      ]
    },
    {
      "cell_type": "code",
      "metadata": {
        "id": "v_FFFoBvRnZI"
      },
      "source": [
        "%matplotlib inline\n",
        "import matplotlib\n",
        "import matplotlib.pyplot as plt\n",
        "import numpy as np"
      ],
      "execution_count": null,
      "outputs": []
    },
    {
      "cell_type": "code",
      "metadata": {
        "id": "pbnJIFKSRnZJ"
      },
      "source": [
        "plt.rcParams['figure.figsize'] = (16, 4)"
      ],
      "execution_count": null,
      "outputs": []
    },
    {
      "cell_type": "code",
      "metadata": {
        "id": "VDCoKFucRnZJ"
      },
      "source": [
        "X, Y = np.mgrid[0:1:5j, 0:1:5j]\n",
        "x, y = X.ravel(), Y.ravel()"
      ],
      "execution_count": null,
      "outputs": []
    },
    {
      "cell_type": "code",
      "metadata": {
        "colab": {
          "base_uri": "https://localhost:8080/"
        },
        "id": "TY-jzOZrSB_7",
        "outputId": "7062e6af-7df4-4c98-ed59-4d7615b59e9d"
      },
      "source": [
        "X"
      ],
      "execution_count": null,
      "outputs": [
        {
          "output_type": "execute_result",
          "data": {
            "text/plain": [
              "array([[0.  , 0.  , 0.  , 0.  , 0.  ],\n",
              "       [0.25, 0.25, 0.25, 0.25, 0.25],\n",
              "       [0.5 , 0.5 , 0.5 , 0.5 , 0.5 ],\n",
              "       [0.75, 0.75, 0.75, 0.75, 0.75],\n",
              "       [1.  , 1.  , 1.  , 1.  , 1.  ]])"
            ]
          },
          "metadata": {
            "tags": []
          },
          "execution_count": 4
        }
      ]
    },
    {
      "cell_type": "code",
      "metadata": {
        "colab": {
          "base_uri": "https://localhost:8080/"
        },
        "id": "n42xSpM5SFmO",
        "outputId": "b0878722-db92-4814-a0b3-f0a200188f9b"
      },
      "source": [
        "Y"
      ],
      "execution_count": null,
      "outputs": [
        {
          "output_type": "execute_result",
          "data": {
            "text/plain": [
              "array([[0.  , 0.25, 0.5 , 0.75, 1.  ],\n",
              "       [0.  , 0.25, 0.5 , 0.75, 1.  ],\n",
              "       [0.  , 0.25, 0.5 , 0.75, 1.  ],\n",
              "       [0.  , 0.25, 0.5 , 0.75, 1.  ],\n",
              "       [0.  , 0.25, 0.5 , 0.75, 1.  ]])"
            ]
          },
          "metadata": {
            "tags": []
          },
          "execution_count": 5
        }
      ]
    },
    {
      "cell_type": "markdown",
      "metadata": {
        "id": "C6gLiH7YRnZK"
      },
      "source": [
        "## 1. Eltolás\n",
        "---\n",
        "$$\n",
        "\\large x'=x + t_x \\\\\n",
        "\\large y'=y + t_y\n",
        "$$\n",
        "\n",
        "$$ \\large\n",
        "\\begin{bmatrix} x' \\\\ y' \\\\ 1 \\end{bmatrix} = \\begin{bmatrix} 1 & 0 & t_x \\\\ 0 & 1 & t_y  \\\\ 0 & 0 & 1 \\end{bmatrix}\\begin{bmatrix} x \\\\ y \\\\ 1 \\end{bmatrix}\n",
        "$$"
      ]
    },
    {
      "cell_type": "code",
      "metadata": {
        "colab": {
          "base_uri": "https://localhost:8080/",
          "height": 282
        },
        "id": "-9jEDzY7RnZK",
        "outputId": "5d0be594-7dfe-4225-9614-dcf1d263c033"
      },
      "source": [
        "def trans_translate(x, y, tx, ty):\n",
        "    T = [[1, 0, tx],\n",
        "         [0, 1, ty],\n",
        "         [0, 0, 1 ]]\n",
        "    T = np.array(T)\n",
        "    P = np.array([x, y, [1]*x.size])\n",
        "    return np.dot(T, P)\n",
        "\n",
        "fig, ax = plt.subplots(1, 4)\n",
        "\n",
        "T_ = [[0, 0], [2.3, 0], [0, 1.7], [2, 2]]\n",
        "\n",
        "for i in range(4):\n",
        "    tx, ty = T_[i]\n",
        "    x_, y_, _ = trans_translate(x, y, tx, ty)\n",
        "    ax[i].scatter(x_, y_)\n",
        "    ax[i].set_title(r'$t_x={0:.2f}$ , $t_y={1:.2f}$'.format(tx, ty))\n",
        "    \n",
        "    ax[i].set_xlim([-0.5, 4])\n",
        "    ax[i].set_ylim([-0.5, 4])\n",
        "    ax[i].grid(alpha=0.5)\n",
        "    ax[i].axhline(y=0, color='k')\n",
        "    ax[i].axvline(x=0, color='k')\n",
        "\n",
        "plt.show()"
      ],
      "execution_count": null,
      "outputs": [
        {
          "output_type": "display_data",
          "data": {
            "image/png": "[encoded data removed]",
            "text/plain": [
              "<Figure size 1152x288 with 4 Axes>"
            ]
          },
          "metadata": {
            "tags": [],
            "needs_background": "light"
          }
        }
      ]
    },
    {
      "cell_type": "markdown",
      "metadata": {
        "id": "XTzoxHKNRnZL"
      },
      "source": [
        "## 2. Nyújtás\n",
        "---\n",
        "Az $(p_x, p_y)$ ponthoz képest\n",
        "$$\n",
        "\\large x'=s_x(x - p_x) + p_x = s_x x + p_x(1 - s_x)\\\\\n",
        "\\large y'=s_y(y - p_y) + p_y = s_y y + p_y(1 - s_y)\n",
        "$$\n",
        "&nbsp;\n",
        "$$ \\large\n",
        "\\begin{bmatrix} x' \\\\ y' \\\\ 1 \\end{bmatrix} = \\begin{bmatrix} s_x & 0 & p_x(1 - s_x) \\\\ 0 & s_y & p_y(1 - s_y)  \\\\ 0 & 0 & 1 \\end{bmatrix}\\begin{bmatrix} x \\\\ y \\\\ 1 \\end{bmatrix}\n",
        "$$"
      ]
    },
    {
      "cell_type": "code",
      "metadata": {
        "colab": {
          "base_uri": "https://localhost:8080/",
          "height": 302
        },
        "id": "ig1Bbi_cRnZM",
        "outputId": "d023409a-7bf4-4b7a-9c1a-3ebeb09ac34a"
      },
      "source": [
        "def trans_scale(x, y, px, py, sx, sy):\n",
        "    T = [[sx, 0 , px*(1 - sx)],\n",
        "         [0 , sy, py*(1 - sy)],\n",
        "         [0 , 0 , 1          ]]\n",
        "    T = np.array(T)\n",
        "    P = np.array([x, y, [1]*x.size])\n",
        "    return np.dot(T, P)\n",
        "\n",
        "fig, ax = plt.subplots(1, 4)\n",
        "\n",
        "S_ = [[1, 1], [1.8, 1], [1, 1.7], [2, 2]]\n",
        "P_ = [[0, 0], [0, 0], [0.45, 0.45], [1.1, 1.1]]\n",
        "\n",
        "for i in range(4):\n",
        "    sx, sy = S_[i]; px, py = P_[i]\n",
        "    x_, y_, _ = trans_scale(x, y, px, py, sx, sy)\n",
        "    ax[i].scatter(x_, y_)\n",
        "    ax[i].scatter(px, py)\n",
        "    ax[i].set_title(r'$p_x={0:.2f}$ , $p_y={1:.2f}$'.format(px, py) + '\\n'\n",
        "                    r'$s_x={0:.2f}$ , $s_y={1:.2f}$'.format(sx, sy))\n",
        "    \n",
        "    ax[i].set_xlim([-2, 2])\n",
        "    ax[i].set_ylim([-2, 2])\n",
        "    ax[i].grid(alpha=0.5)\n",
        "    ax[i].axhline(y=0, color='k')\n",
        "    ax[i].axvline(x=0, color='k')\n",
        "\n",
        "plt.show()"
      ],
      "execution_count": null,
      "outputs": [
        {
          "output_type": "display_data",
          "data": {
            "image/png": "[encoded data removed]",
            "text/plain": [
              "<Figure size 1152x288 with 4 Axes>"
            ]
          },
          "metadata": {
            "tags": [],
            "needs_background": "light"
          }
        }
      ]
    },
    {
      "cell_type": "markdown",
      "metadata": {
        "id": "Rv62lDltRnZN"
      },
      "source": [
        "## 3. Forgatás\n",
        "---\n",
        "Az $(p_x, p_y)$ ponthoz képest\n",
        "$$\n",
        "\\large x'=(x - p_x)\\cos\\beta-(y - p_y)\\sin \\beta + p_x = x \\cos \\beta - y \\sin \\beta + p_x(1 - \\cos \\beta) + p_y \\sin \\beta \\\\\n",
        "\\large y'=(x - p_x)\\sin\\beta+(y - p_y)\\cos \\beta + p_y = x \\sin \\beta + y \\cos \\beta + p_y(1 - \\cos \\beta) - p_x \\sin \\beta\n",
        "$$\n",
        "&nbsp;\n",
        "$$ \\large\n",
        "\\begin{bmatrix} x' \\\\ y' \\\\ 1 \\end{bmatrix} = \\begin{bmatrix} \\cos\\beta & -\\sin\\beta & p_x(1 - \\cos \\beta) + p_y \\sin \\beta \\\\ \\sin\\beta & \\cos\\beta & p_y(1 - \\cos \\beta) - p_x \\sin \\beta \\\\ 0 & 0 & 1 \\end{bmatrix}\\begin{bmatrix} x \\\\ y \\\\ 1 \\end{bmatrix}\n",
        "$$"
      ]
    },
    {
      "cell_type": "code",
      "metadata": {
        "scrolled": true,
        "colab": {
          "base_uri": "https://localhost:8080/",
          "height": 282
        },
        "id": "9uB6vn3ORnZN",
        "outputId": "3f6c1ac7-02cd-4048-e056-1695b48a2958"
      },
      "source": [
        "def trans_rotate(x, y, px, py, beta):\n",
        "    beta = np.deg2rad(beta)\n",
        "    T = [[np.cos(beta), -np.sin(beta), px*(1 - np.cos(beta)) + py*np.sin(beta)],\n",
        "         [np.sin(beta),  np.cos(beta), py*(1 - np.cos(beta)) - px*np.sin(beta)],\n",
        "         [0           ,  0           , 1                                      ]]\n",
        "    T = np.array(T)\n",
        "    P = np.array([x, y, [1]*x.size])\n",
        "    return np.dot(T, P)\n",
        "\n",
        "fig, ax = plt.subplots(1, 4)\n",
        "\n",
        "R_ = [0, 225, 40, -10]\n",
        "P_ = [[0, 0], [0, 0], [0.5, -0.5], [1.1, 1.1]]\n",
        "\n",
        "for i in range(4):\n",
        "    beta = R_[i]; px, py = P_[i]\n",
        "    x_, y_, _ = trans_rotate(x, y, px, py, beta)\n",
        "    ax[i].scatter(x_, y_)\n",
        "    ax[i].scatter(px, py)\n",
        "    ax[i].set_title(r'$\\beta={0}°$ , $p_x={1:.2f}$ , $p_y={2:.2f}$'.format(beta, px, py))\n",
        "    \n",
        "    ax[i].set_xlim([-2, 2])\n",
        "    ax[i].set_ylim([-2, 2])\n",
        "    ax[i].grid(alpha=0.5)\n",
        "    ax[i].axhline(y=0, color='k')\n",
        "    ax[i].axvline(x=0, color='k')\n",
        "\n",
        "plt.show()"
      ],
      "execution_count": null,
      "outputs": [
        {
          "output_type": "display_data",
          "data": {
            "image/png": "[encoded data removed]",
            "text/plain": [
              "<Figure size 1152x288 with 4 Axes>"
            ]
          },
          "metadata": {
            "tags": [],
            "needs_background": "light"
          }
        }
      ]
    },
    {
      "cell_type": "markdown",
      "metadata": {
        "id": "ry6sU5EoRnZO"
      },
      "source": [
        "## 4. Transzformáció\n",
        "---\n",
        "Az $(p_x, p_y)$ ponthoz képest\n",
        "$$\n",
        "\\large x' = x + \\lambda_x(y - p_x) = x + \\lambda_x y - \\lambda_x p_x\\\\\n",
        "\\large y' = y + \\lambda_y(x - p_y) = y + \\lambda_y x - \\lambda_y p_y\n",
        "$$\n",
        "&nbsp;\n",
        "$$ \\large\n",
        "\\begin{bmatrix} x' \\\\ y' \\\\ 1 \\end{bmatrix} = \\begin{bmatrix} 1 & \\lambda_x & -\\lambda_x p_x \\\\ \\lambda_y & 1 & -\\lambda_y p_y  \\\\ 0 & 0 & 1 \\end{bmatrix}\\begin{bmatrix} x \\\\ y \\\\ 1 \\end{bmatrix}\n",
        "$$"
      ]
    },
    {
      "cell_type": "code",
      "metadata": {
        "id": "b-bSW-IFRnZO",
        "outputId": "ae213265-0bf7-492c-8832-65b2ba5959f3"
      },
      "source": [
        "def trans_shear(x, y, px, py, lambdax, lambday):\n",
        "    T = [[1      , lambdax, -lambdax*px],\n",
        "         [lambday, 1      , -lambday*py],\n",
        "         [0      , 0      ,  1         ]]\n",
        "    T = np.array(T)\n",
        "    P = np.array([x, y, [1]*x.size])\n",
        "    return np.dot(T, P)\n",
        "\n",
        "fig, ax = plt.subplots(1, 4)\n",
        "\n",
        "L_ = [[0, 0], [2, 0], [0, -2], [-2, -2]]\n",
        "P_ = [[0, 0], [0, 0], [0, 1.5], [1.1, 1.1]]\n",
        "\n",
        "for i in range(4):\n",
        "    lambdax, lambday = L_[i]; px, py = P_[i]\n",
        "    x_, y_, _ = trans_shear(x, y, px, py, lambdax, lambday)\n",
        "    ax[i].scatter(x_, y_)\n",
        "    ax[i].scatter(px, py)\n",
        "    ax[i].set_title(r'$p_x={0:.2f}$ , $p_y={1:.2f}$'.format(px, py) + '\\n'\n",
        "                    r'$\\lambda_x={0:.2f}$ , $\\lambda_y={1:.2f}$'.format(lambdax, lambday))\n",
        "\n",
        "    ax[i].set_xlim([-3, 3])\n",
        "    ax[i].set_ylim([-3, 3])\n",
        "    ax[i].grid(alpha=0.5)\n",
        "    ax[i].axhline(y=0, color='k')\n",
        "    ax[i].axvline(x=0, color='k')\n",
        "\n",
        "plt.show()"
      ],
      "execution_count": null,
      "outputs": [
        {
          "output_type": "display_data",
          "data": {
            "image/png": "[encoded data removed]",
            "text/plain": [
              "<Figure size 1152x288 with 4 Axes>"
            ]
          },
          "metadata": {
            "tags": [],
            "needs_background": "light"
          }
        }
      ]
    }
  ]
}