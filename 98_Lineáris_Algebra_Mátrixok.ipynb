{
  "nbformat": 4,
  "nbformat_minor": 0,
  "metadata": {
    "kernelspec": {
      "display_name": "Python 3",
      "language": "python",
      "name": "python3"
    },
    "language_info": {
      "codemirror_mode": {
        "name": "ipython",
        "version": 3
      },
      "file_extension": ".py",
      "mimetype": "text/x-python",
      "name": "python",
      "nbconvert_exporter": "python",
      "pygments_lexer": "ipython3",
      "version": "3.7.7"
    },
    "colab": {
      "name": "98 Lineáris Algebra - Mátrixok.ipynb",
      "provenance": [],
      "collapsed_sections": [],
      "include_colab_link": true
    }
  },
  "cells": [
    {
      "cell_type": "markdown",
      "metadata": {
        "id": "view-in-github",
        "colab_type": "text"
      },
      "source": [
        "<a href=\"https://colab.research.google.com/github/JoDeMiro/ImageProcessing/blob/main/98_Line%C3%A1ris_Algebra_M%C3%A1trixok.ipynb\" target=\"_parent\"><img src=\"https://colab.research.google.com/assets/colab-badge.svg\" alt=\"Open In Colab\"/></a>"
      ]
    },
    {
      "cell_type": "markdown",
      "metadata": {
        "id": "N4W0tChnCKlN"
      },
      "source": [
        "<a name=\"tartalom\"></a>\n",
        "\n",
        "# Lineáris algebra - Mátrixok\n",
        "---\n",
        "Régi Linalg jegyzetem - *Mátrixok*."
      ]
    },
    {
      "cell_type": "code",
      "metadata": {
        "id": "RivgjzToCKlP"
      },
      "source": [
        "import numpy as np"
      ],
      "execution_count": 2,
      "outputs": []
    },
    {
      "cell_type": "markdown",
      "metadata": {
        "id": "75QZ8UfeCKlP"
      },
      "source": [
        "# 1. A mátrix?\n",
        "---\n",
        "A mátrix $ A$ egy *négyzet alakú tömb* amelynek elemei *sorokba* $m$ és *oszlopokba* $n$ vannak rendezve.\n",
        "\n",
        "\n",
        "$$ \\large\n",
        "A = \n",
        "\\begin{bmatrix}\n",
        "a_{11} & a_{12} & \\cdots & a_{1n} \\\\\n",
        "a_{21} & a_{22} & \\cdots & a_{2n} \\\\\n",
        "a_{31} & a_{32} & \\cdots & a_{3n} \\\\\n",
        "\\vdots & \\vdots & \\ddots & \\vdots \\\\\n",
        "a_{m1} & a_{m2} & \\cdots & a_{mn} \\\\\n",
        "\\end{bmatrix}\n",
        "$$\n",
        "\n",
        "A *négyzetes mátrix* *soriainak* és *oszlopainak* száma megegyezik."
      ]
    },
    {
      "cell_type": "markdown",
      "metadata": {
        "id": "9ypYf3CECKlQ"
      },
      "source": [
        "# 2. Mátrix műveletek\n",
        "---\n",
        "A következő műveletek minden vektorra is alkalmazhatóak amelyek $\\large \\mathbb{R}^{m \\times n}$.\n",
        "\n",
        "## 2.1. Mátrix összeadás\n",
        "---\n",
        "Két mátrix összeadásánál $\\large M_{3\\times2}$ és $\\large N_{3\\times2}$ a megfelelő elemeket kell összeadni.\n",
        "\n",
        "$$ \\large\n",
        "M+N = \n",
        "\\begin{bmatrix}\n",
        "m_{11} & m_{12} \\\\\n",
        "m_{21} & m_{22} \\\\\n",
        "m_{31} & m_{32} \\\\\n",
        "\\end{bmatrix} +\n",
        "\\begin{bmatrix}\n",
        "n_{11} & n_{12} \\\\\n",
        "n_{21} & n_{22} \\\\\n",
        "n_{31} & n_{32} \\\\\n",
        "\\end{bmatrix} =\n",
        "\\begin{bmatrix}\n",
        "m_{11}+n_{11} & m_{12}+n_{12} \\\\\n",
        "m_{21}+n_{21} & m_{22}+n_{22} \\\\\n",
        "m_{31}+n_{31} & m_{32}+n_{32} \\\\\n",
        "\\end{bmatrix}\n",
        "$$\n",
        "\n",
        "\n",
        "Példa:\n",
        "\n",
        "\n",
        "$$ \\large\n",
        "M =\n",
        "\\begin{bmatrix}\n",
        "2 & 5 \\\\\n",
        "3 & 7 \\\\\n",
        "8 & 6\n",
        "\\end{bmatrix}\n",
        "\\quad , \\quad\n",
        "N =\n",
        "\\begin{bmatrix}\n",
        "1 & 7 \\\\\n",
        "5 & 6 \\\\\n",
        "2 & 9\n",
        "\\end{bmatrix}\n",
        "$$\n",
        "\n",
        "\n",
        "$$ \\large\n",
        "M + N =\n",
        "\\begin{bmatrix}\n",
        "2+1 & 5+7 \\\\\n",
        "3+5 & 7+6 \\\\\n",
        "8+2 & 6+9\n",
        "\\end{bmatrix} =\n",
        "\\begin{bmatrix}\n",
        "3 & 12 \\\\\n",
        "8 & 13 \\\\\n",
        "10 & 15\n",
        "\\end{bmatrix}\n",
        "$$"
      ]
    },
    {
      "cell_type": "code",
      "metadata": {
        "colab": {
          "base_uri": "https://localhost:8080/"
        },
        "id": "hYii96t1CKlR",
        "outputId": "f0450424-7fe5-46fa-8c17-db88df49a302"
      },
      "source": [
        "M = np.array([\n",
        "    [2, 5],\n",
        "    [3, 7],\n",
        "    [8, 6],\n",
        "])\n",
        "N = np.array([\n",
        "    [1, 7],\n",
        "    [5, 6],\n",
        "    [2, 9],\n",
        "])\n",
        "print(M, end=\" = M\\n\\n\")\n",
        "print(N, end=\" = N\\n\\n\")\n",
        "print(M + N, end=\" = M + N\")"
      ],
      "execution_count": 3,
      "outputs": [
        {
          "output_type": "stream",
          "text": [
            "[[2 5]\n",
            " [3 7]\n",
            " [8 6]] = M\n",
            "\n",
            "[[1 7]\n",
            " [5 6]\n",
            " [2 9]] = N\n",
            "\n",
            "[[ 3 12]\n",
            " [ 8 13]\n",
            " [10 15]] = M + N"
          ],
          "name": "stdout"
        }
      ]
    },
    {
      "cell_type": "markdown",
      "metadata": {
        "id": "rKoHjt92CKlS"
      },
      "source": [
        "### A mátrix összeadás tulajdonságai\n",
        "---\n",
        "1. $M + (N + P) = (M + N) + P$\n",
        "2. $M + 0 = 0 + M = M$\n",
        "3. $M + N = N + M$"
      ]
    },
    {
      "cell_type": "markdown",
      "metadata": {
        "id": "efDYxreHCKlS"
      },
      "source": [
        "## 2.2. Mátrix kivonás\n",
        "---\n",
        "Ugyan az mint a mátrix összeadásnál az $\\large M$ és $\\large N$ mátrix megfelelő elemeit kell kivonni egymásból.\n",
        "\n",
        "$$ \\large\n",
        "M-N = \n",
        "\\begin{bmatrix}\n",
        "m_{11} & m_{12} \\\\\n",
        "m_{21} & m_{22} \\\\\n",
        "m_{31} & m_{32} \\\\\n",
        "\\end{bmatrix} -\n",
        "\\begin{bmatrix}\n",
        "n_{11} & n_{12} \\\\\n",
        "n_{21} & n_{22} \\\\\n",
        "n_{31} & n_{32} \\\\\n",
        "\\end{bmatrix} =\n",
        "\\begin{bmatrix}\n",
        "m_{11}-n_{11} & m_{12}-n_{12} \\\\\n",
        "m_{21}-n_{21} & m_{22}-n_{22} \\\\\n",
        "m_{31}-n_{31} & m_{32}-n_{32} \\\\\n",
        "\\end{bmatrix}\n",
        "$$\n",
        "\n",
        "\n",
        "Példa:\n",
        "\n",
        "\n",
        "$$ \\large\n",
        "M =\n",
        "\\begin{bmatrix}\n",
        "2 & 5 \\\\\n",
        "3 & 7 \\\\\n",
        "8 & 6\n",
        "\\end{bmatrix}\n",
        "\\quad , \\quad\n",
        "N =\n",
        "\\begin{bmatrix}\n",
        "1 & 7 \\\\\n",
        "5 & 6 \\\\\n",
        "2 & 9\n",
        "\\end{bmatrix}\n",
        "$$\n",
        "\n",
        "\n",
        "$$ \\large\n",
        "M - N =\n",
        "\\begin{bmatrix}\n",
        "2-1 & 5-7 \\\\\n",
        "3-5 & 7-6 \\\\\n",
        "8-2 & 6-9\n",
        "\\end{bmatrix} =\n",
        "\\begin{bmatrix}\n",
        "1 & -2 \\\\\n",
        "-2 & 1 \\\\\n",
        "6 & -3\n",
        "\\end{bmatrix}\n",
        "$$"
      ]
    },
    {
      "cell_type": "code",
      "metadata": {
        "colab": {
          "base_uri": "https://localhost:8080/"
        },
        "id": "7PP_Sq1_CKlS",
        "outputId": "6d16d643-08b4-4a0b-b91f-544fd47c29cc"
      },
      "source": [
        "M = np.array([\n",
        "    [2, 5],\n",
        "    [3, 7],\n",
        "    [8, 6],\n",
        "])\n",
        "N = np.array([\n",
        "    [1, 7],\n",
        "    [5, 6],\n",
        "    [2, 9],\n",
        "])\n",
        "print(M, end=\" = M\\n\\n\")\n",
        "print(N, end=\" = N\\n\\n\")\n",
        "print(M - N, end=\" = M - N\")"
      ],
      "execution_count": 4,
      "outputs": [
        {
          "output_type": "stream",
          "text": [
            "[[2 5]\n",
            " [3 7]\n",
            " [8 6]] = M\n",
            "\n",
            "[[1 7]\n",
            " [5 6]\n",
            " [2 9]] = N\n",
            "\n",
            "[[ 1 -2]\n",
            " [-2  1]\n",
            " [ 6 -3]] = M - N"
          ],
          "name": "stdout"
        }
      ]
    },
    {
      "cell_type": "markdown",
      "metadata": {
        "id": "olw0Giq1CKlT"
      },
      "source": [
        "### A mátrix kivonás tulajdonságai\n",
        "---\n",
        "1. $-(-M) = M$\n",
        "2. $-M + M = M - M = 0$\n",
        "3. $M - N \\neq N - M$"
      ]
    },
    {
      "cell_type": "markdown",
      "metadata": {
        "id": "CekebxQ_CKlT"
      },
      "source": [
        "## 2.3. Skalárral való szorzás\n",
        "---\n",
        "Skalárral való szorzásnál a mátrix minden elemét meg kell szorozni $\\large \\alpha$ skalárral. Ugyanígy járunk el skalárral valóö osztásnál is.\n",
        "\n",
        "$$ \\large\n",
        "\\alpha M = \n",
        "\\alpha \\cdot\n",
        "\\begin{bmatrix}\n",
        "m_{11} & m_{12} & \\cdots & m_{1n} \\\\\n",
        "m_{21} & m_{22} & \\cdots & m_{2n} \\\\\n",
        "m_{31} & m_{32} & \\cdots & m_{3n} \\\\\n",
        "\\vdots & \\vdots & \\ddots & \\vdots \\\\\n",
        "m_{m1} & m_{m2} & \\cdots & m_{mn}\n",
        "\\end{bmatrix} =\n",
        "\\begin{bmatrix}\n",
        "\\alpha \\cdot m_{11} & \\alpha \\cdot m_{12} & \\cdots & \\alpha \\cdot m_{1n} \\\\\n",
        "\\alpha \\cdot m_{21} & \\alpha \\cdot m_{22} & \\cdots & \\alpha \\cdot m_{2n} \\\\\n",
        "\\alpha \\cdot m_{31} & \\alpha \\cdot m_{32} & \\cdots & \\alpha \\cdot m_{3n} \\\\\n",
        "\\vdots & \\vdots & \\ddots & \\vdots \\\\\n",
        "\\alpha \\cdot m_{m1} & \\alpha \\cdot m_{m2} & \\cdots & \\alpha \\cdot m_{mn}\n",
        "\\end{bmatrix}\n",
        "$$\n",
        "\n",
        "\n",
        "Példa:\n",
        "\n",
        "$$ \\large\n",
        "\\alpha = 2\n",
        "\\quad , \\quad\n",
        "M =\n",
        "\\begin{bmatrix}\n",
        "2 & 5 \\\\\n",
        "3 & 7 \\\\\n",
        "8 & 6\n",
        "\\end{bmatrix}\n",
        "$$\n",
        "\n",
        "$$ \\large\n",
        "\\alpha \\cdot M =\n",
        "\\begin{bmatrix}\n",
        "2 \\cdot 2 & 2 \\cdot 5 \\\\\n",
        "2 \\cdot 3 & 2 \\cdot 7 \\\\\n",
        "2 \\cdot 8 & 2 \\cdot 6\n",
        "\\end{bmatrix} =\n",
        "\\begin{bmatrix}\n",
        "4 & 10 \\\\\n",
        "6 & 14 \\\\\n",
        "16 & 12\n",
        "\\end{bmatrix}\n",
        "$$"
      ]
    },
    {
      "cell_type": "code",
      "metadata": {
        "colab": {
          "base_uri": "https://localhost:8080/"
        },
        "id": "FVxVtaSLCKlU",
        "outputId": "f678aa4b-72c6-46c4-98a6-1d0944fd8582"
      },
      "source": [
        "a = 2\n",
        "M = np.array([\n",
        "    [2, 5],\n",
        "    [3, 7],\n",
        "    [8, 6],\n",
        "])\n",
        "print(a, end=\" = a\\n\\n\")\n",
        "print(M, end=\" = M\\n\\n\")\n",
        "print(a*M, end=\" = a.M\")"
      ],
      "execution_count": 5,
      "outputs": [
        {
          "output_type": "stream",
          "text": [
            "2 = a\n",
            "\n",
            "[[2 5]\n",
            " [3 7]\n",
            " [8 6]] = M\n",
            "\n",
            "[[ 4 10]\n",
            " [ 6 14]\n",
            " [16 12]] = a.M"
          ],
          "name": "stdout"
        }
      ]
    },
    {
      "cell_type": "markdown",
      "metadata": {
        "id": "ey8rkDGeCKlV"
      },
      "source": [
        "### A skalárral való szorzás tulajdonságai\n",
        "---\n",
        "1. $(\\alpha \\beta) M = \\alpha (\\beta M)$\n",
        "2. $(\\alpha + \\beta) M = \\alpha M + \\beta M$\n",
        "3. $\\alpha(M + N) = \\alpha M + \\alpha N$\n",
        "4. $1M = M$"
      ]
    },
    {
      "cell_type": "markdown",
      "metadata": {
        "id": "XYcycLkYCKlV"
      },
      "source": [
        "# 3. Mátrix szorzás\n",
        "---\n",
        "Két mátrix $\\large M_{m \\times n}$ és $\\large N_{n \\times p}$ összeszorzásakor az a szabály, hogy az *első mátrix* oszlopainak száma (${m \\times n}$) meg kell, hogy egyezzen a *második mátrix* (${n \\times p}$) sorainak számával. Az eredmény egy másik (${m \\times p}$) méretű mátrix lesz.\n",
        "\n",
        "$$ \\large\n",
        "[MN]_{ij}=m_{i1} \\cdot n_{1j}+m_{i2} \\cdot n_{2j}+ \\cdots + m_{in} \\cdot n_{nj}=\\sum_1^n m_{in} \\cdot m_{nj}\n",
        "$$\n",
        "\n",
        "\n",
        "Példa\n",
        "\n",
        "\n",
        "$$ \\large\n",
        "M =\n",
        "\\begin{bmatrix}\n",
        "2 & 3 & 8 \\\\\n",
        "5 & 7 & 6\n",
        "\\end{bmatrix}\n",
        "\\quad , \\quad\n",
        "N =\n",
        "\\begin{bmatrix}\n",
        "1 & 7 \\\\\n",
        "5 & 6 \\\\\n",
        "2 & 9\n",
        "\\end{bmatrix}\n",
        "$$\n",
        "\n",
        "\n",
        "$$ \\large\n",
        "M \\times N =\n",
        "\\begin{bmatrix}\n",
        "2 \\cdot 1 + 3 \\cdot 5 + 8 \\cdot 2 & 2 \\cdot 7 + 3 \\cdot 6 + 8 \\cdot 9 \\\\\n",
        "5 \\cdot 1 + 7 \\cdot 5 + 6 \\cdot 2 & 5 \\cdot 7 + 7 \\cdot 6 + 6 \\cdot 9\n",
        "\\end{bmatrix} =\n",
        "\\begin{bmatrix}\n",
        "33 & 104 \\\\\n",
        "52 & 131\n",
        "\\end{bmatrix}\n",
        "$$"
      ]
    },
    {
      "cell_type": "code",
      "metadata": {
        "colab": {
          "base_uri": "https://localhost:8080/"
        },
        "id": "UztBIVFcCKlV",
        "outputId": "1e7a6972-86c7-4e45-cd3f-949649905144"
      },
      "source": [
        "M = np.array([\n",
        "    [2, 3, 8],\n",
        "    [5, 7, 6]\n",
        "])\n",
        "N = np.array([\n",
        "    [1, 7],\n",
        "    [5, 6],\n",
        "    [2, 9],\n",
        "])\n",
        "print(M, end=\" = M\\n\\n\")\n",
        "print(N, end=\" = N\\n\\n\")\n",
        "print(np.dot(M, N), end=\" = M x N\")"
      ],
      "execution_count": 6,
      "outputs": [
        {
          "output_type": "stream",
          "text": [
            "[[2 3 8]\n",
            " [5 7 6]] = M\n",
            "\n",
            "[[1 7]\n",
            " [5 6]\n",
            " [2 9]] = N\n",
            "\n",
            "[[ 33 104]\n",
            " [ 52 131]] = M x N"
          ],
          "name": "stdout"
        }
      ]
    },
    {
      "cell_type": "markdown",
      "metadata": {
        "id": "7UhokaeNCKlW"
      },
      "source": [
        "### A mátrix szorzás tulajdonságai\n",
        "---\n",
        "1. $M_{m \\times n} N_{n \\times m} \\neq N_{n \\times m} M_{m \\times n}$\n",
        "2. $(M_{m \\times n} N_{n \\times p}) P_{p \\times q} = M_{m \\times n}(N_{n \\times p} P_{p \\times q})$\n",
        "3. $(M_{m \\times n} + N_{m \\times n}) P_{n \\times p} = M_{m \\times n}P_{n \\times p} + N_{m \\times n}P_{n \\times p}$\n",
        "4. $P_{m \\times n} (M_{n \\times p} + N_{n \\times p}) = P_{m \\times n} M_{n \\times p} + P_{m \\times n} N_{n \\times p}$\n",
        "5. $(\\alpha M_{m \\times n}) N_{n \\times p} = M_{m \\times n} (\\alpha N_{n \\times p}) = \\alpha (M_{m \\times n} N_{n \\times p})$"
      ]
    },
    {
      "cell_type": "markdown",
      "metadata": {
        "id": "w82WQ4BGCKlW"
      },
      "source": [
        "# 4. Mátrix transponáltja\n",
        "---\n",
        "A mátrix *transponálás* egy olyan művelet ami a mátrix soraiból oszlopokat az oszlopokból sorokat csinál, tehát $M_{m \\times n}^T = M_{n \\times m}$.\n",
        "\n",
        "Például:\n",
        "\n",
        "$$ \\large\n",
        "\\begin{bmatrix}\n",
        "1 & 7 \\\\\n",
        "5 & 6 \\\\\n",
        "2 & 9\n",
        "\\end{bmatrix}^T =\n",
        "\\begin{bmatrix}\n",
        "1 & 5 & 2 \\\\\n",
        "7 & 6 & 9\n",
        "\\end{bmatrix}\n",
        "$$"
      ]
    },
    {
      "cell_type": "code",
      "metadata": {
        "colab": {
          "base_uri": "https://localhost:8080/"
        },
        "id": "3i0AH2XmCKlW",
        "outputId": "1f7cf947-b73f-4bd0-8ce8-7f9f4753a175"
      },
      "source": [
        "M = np.array([\n",
        "    [1, 7],\n",
        "    [5, 6],\n",
        "    [2, 9],\n",
        "])\n",
        "print(M, end=\" = M\\n\\n\")\n",
        "print(M.T, end=\" = MT\")"
      ],
      "execution_count": 7,
      "outputs": [
        {
          "output_type": "stream",
          "text": [
            "[[1 7]\n",
            " [5 6]\n",
            " [2 9]] = M\n",
            "\n",
            "[[1 5 2]\n",
            " [7 6 9]] = MT"
          ],
          "name": "stdout"
        }
      ]
    },
    {
      "cell_type": "markdown",
      "metadata": {
        "id": "n_Dr1QsFCKlX"
      },
      "source": [
        "### A mátrix transponálás tulajdonságai\n",
        "---\n",
        "1. $(M + N)^T = M^T + N^T$\n",
        "2. $(\\alpha M)^T = \\alpha M^T$\n",
        "3. $(M^T)^T = M$\n",
        "4. $(M_{m \\times n} N_{n \\times p})^T = N_{n \\times p}^T M_{m \\times n}^T$"
      ]
    },
    {
      "cell_type": "markdown",
      "metadata": {
        "id": "nOMYMPv1CKlX"
      },
      "source": [
        "# 5. A mátrix determinánsa\n",
        "---\n",
        "A *négyzetes mátrix* determinánsa ($\\det(M)$ vagy másféleképen $|M|$) egy olyan művelet amely, a mátrixból előálít egy *valós számot*.\n",
        "\n",
        "A mátrix minden sorából és oszlopából kiválasztunk egy és csak egy elemet, és ezeket az elemeket összeszorozzuk. Ezt az összes lehetséges módon megtesszük és a s szorzatokat ellátjuk egy előjellel. Végül az így kapott előjeles szorzatokat összeadjuk.\n",
        "\n",
        "<br>\n",
        "\n",
        "$$ \\large\n",
        "\\det (M_{2 \\times 2}) =\n",
        "\\det \\begin{bmatrix}\n",
        "a & b \\\\\n",
        "c & d\n",
        "\\end{bmatrix} =\n",
        "a d - b c\n",
        "$$\n",
        "\n",
        "vagy\n",
        "<br>\n",
        "\n",
        "\n",
        "$$ \\large\n",
        "\\det (M_{2 \\times 2}) =\n",
        "\\det \\begin{bmatrix}\n",
        "m_{11} & m_{12} \\\\\n",
        "m_{21} & m_{22}\n",
        "\\end{bmatrix} =\n",
        "m_{11} m_{22} - m_{12} m_{21}\n",
        "$$\n",
        "\n",
        "\n",
        "<br>\n",
        "\n",
        "Például:\n",
        "\n",
        "$$ \\large\n",
        "\\begin{aligned}\n",
        "M & =\n",
        "\\begin{bmatrix}\n",
        "3 & 5  \\\\\n",
        "2 & 7\n",
        "\\end{bmatrix} \\\\\n",
        "|M| & =\n",
        "(3 \\cdot 7 - 5 \\cdot 2) \\\\\n",
        "|M| & = 21 - 10 \\\\\n",
        "|M| & = 11\n",
        "\\end{aligned}\n",
        "$$\n",
        "\n",
        "<br>\n",
        "\n",
        "Egy $3 \\times 3$ mátrixot véve:\n",
        "\n",
        "\n",
        "$$ \\large\n",
        "\\begin{aligned}\n",
        "|M_{3 \\times 3}| & =\n",
        "\\det \\begin{bmatrix}\n",
        "m_{11} & m_{12} & m_{13} \\\\\n",
        "m_{21} & m_{22} & m_{23} \\\\\n",
        "m_{31} & m_{32} & m_{33}\n",
        "\\end{bmatrix} \\\\\n",
        "|M_{3 \\times 3}| & =\n",
        "(m_{11} m_{22} m_{33} + m_{12} m_{23} m_{31} + m_{13} m_{21} m_{32}) - (m_{13} m_{22} m_{31} + m_{12} m_{21} m_{33} + m_{11} m_{23} m_{32})\n",
        "\\end{aligned}\n",
        "$$\n",
        "\n",
        "<br>\n",
        "\n",
        "Például:\n",
        "\n",
        "$$ \\large\n",
        "\\begin{aligned}\n",
        "M & =\n",
        "\\begin{bmatrix}\n",
        "1 & 7 & 3 \\\\\n",
        "5 & 6 & 8 \\\\\n",
        "2 & 9 & 4\n",
        "\\end{bmatrix} \\\\\n",
        "|M| & =\n",
        "(1 \\cdot 6 \\cdot 4 + 7 \\cdot 8 \\cdot 2 + 3 \\cdot 5 \\cdot 9) - (3 \\cdot 6 \\cdot 2 + 7 \\cdot 5 \\cdot 4 + 1 \\cdot 8 \\cdot 9) \\\\\n",
        "|M| & = (24 + 112 + 135) - (36 + 140 + 72) \\\\\n",
        "|M| & = 271 - 248 \\\\\n",
        "|M| & = 23\n",
        "\\end{aligned}\n",
        "$$"
      ]
    },
    {
      "cell_type": "code",
      "metadata": {
        "colab": {
          "base_uri": "https://localhost:8080/"
        },
        "id": "gF-fpG9BL31E",
        "outputId": "ad8d72d7-721c-4028-d03c-b2fb47ae2c80"
      },
      "source": [
        "M = np.array([\n",
        "    [3, 5],\n",
        "    [2, 7],\n",
        "])\n",
        "print(M, end=\" = M\\n\\n\")\n",
        "print(round(np.linalg.det(M)), end=\" = |M|\")"
      ],
      "execution_count": 9,
      "outputs": [
        {
          "output_type": "stream",
          "text": [
            "[[3 5]\n",
            " [2 7]] = M\n",
            "\n",
            "11 = |M|"
          ],
          "name": "stdout"
        }
      ]
    },
    {
      "cell_type": "code",
      "metadata": {
        "colab": {
          "base_uri": "https://localhost:8080/"
        },
        "id": "7_P5sJfGCKlX",
        "outputId": "7a99ade0-9014-414b-ff51-2e3a09e982e1"
      },
      "source": [
        "M = np.array([\n",
        "    [1, 7, 3],\n",
        "    [5, 6, 8],\n",
        "    [2, 9, 4],\n",
        "])\n",
        "print(M, end=\" = M\\n\\n\")\n",
        "print(round(np.linalg.det(M)), end=\" = |M|\")"
      ],
      "execution_count": 8,
      "outputs": [
        {
          "output_type": "stream",
          "text": [
            "[[1 7 3]\n",
            " [5 6 8]\n",
            " [2 9 4]] = M\n",
            "\n",
            "23 = |M|"
          ],
          "name": "stdout"
        }
      ]
    },
    {
      "cell_type": "markdown",
      "metadata": {
        "id": "tER4uC84CKlY"
      },
      "source": [
        "### A mátrix determinánsának tulajdonságai\n",
        "---\n",
        "1. $|M^T| = |M|$\n",
        "2. $|MN| = |M| |N|$"
      ]
    },
    {
      "cell_type": "markdown",
      "metadata": {
        "id": "0PvbApLaCKlY"
      },
      "source": [
        "# 6. Identitás mátrix\n",
        "---\n",
        "Az *identitás mátrix* $I_n$ egy olyan *négyzetes mátrix* amelynek elemei a *főátlóban* egyenlőek 1-el és minden más elem egyenlő 0-val.\n",
        "\n",
        "$$ \\large\n",
        "I_1 = \n",
        "\\begin{bmatrix}\n",
        "1\n",
        "\\end{bmatrix}\n",
        "\\quad , \\quad\n",
        "I_2 = \n",
        "\\begin{bmatrix}\n",
        "1 & 0 \\\\\n",
        "0 & 1\n",
        "\\end{bmatrix}\n",
        "\\quad , \\quad\n",
        "I_3 = \n",
        "\\begin{bmatrix}\n",
        "1 & 0 & 0 \\\\\n",
        "0 & 1 & 0 \\\\\n",
        "0 & 0 & 1\n",
        "\\end{bmatrix}\n",
        "\\quad , \\quad\n",
        "I_n = \n",
        "\\begin{bmatrix}\n",
        "1 & 0 & \\cdots & 0 \\\\\n",
        "0 & 1 & \\cdots & 0 \\\\\n",
        "\\vdots & \\vdots & \\ddots & \\vdots \\\\\n",
        "0 & 0 & \\cdots & 1\n",
        "\\end{bmatrix}\n",
        "$$"
      ]
    },
    {
      "cell_type": "code",
      "metadata": {
        "colab": {
          "base_uri": "https://localhost:8080/"
        },
        "id": "XM09MZ6kCKlY",
        "outputId": "f70989b5-19e1-4c2d-dbe5-9856bb60bbff"
      },
      "source": [
        "I2 = np.eye(2)\n",
        "I3 = np.eye(3)\n",
        "I4 = np.eye(4)\n",
        "print(I2, end=\" = I2\\n\\n\")\n",
        "print(I3, end=\" = I3\\n\\n\")\n",
        "print(I4, end=\" = I4\\n\\n\")"
      ],
      "execution_count": 10,
      "outputs": [
        {
          "output_type": "stream",
          "text": [
            "[[1. 0.]\n",
            " [0. 1.]] = I2\n",
            "\n",
            "[[1. 0. 0.]\n",
            " [0. 1. 0.]\n",
            " [0. 0. 1.]] = I3\n",
            "\n",
            "[[1. 0. 0. 0.]\n",
            " [0. 1. 0. 0.]\n",
            " [0. 0. 1. 0.]\n",
            " [0. 0. 0. 1.]] = I4\n",
            "\n"
          ],
          "name": "stdout"
        }
      ]
    },
    {
      "cell_type": "markdown",
      "metadata": {
        "id": "mwNdloJ8CKlY"
      },
      "source": [
        "### Az identitás mátirx tulajdonságai\n",
        "---\n",
        "1. $M_{m \\times n} I_n = I_m M_{m \\times n} = M$\n",
        "2. $I_n^T = I_n$"
      ]
    },
    {
      "cell_type": "markdown",
      "metadata": {
        "id": "dZPlYankCKlZ"
      },
      "source": [
        "# 7. Mátrix inverze\n",
        "---\n",
        "\n",
        "A lineáris algebrában egy $A_{n \\times n}$-es *négyzetes* $A$ mátrix invertálható, reguláris, nemelfajuló vagy nem szinguláris, ha létezik egy olyan $B_{n \\times n}$-es $B$ mátrix, melyre igaz:\n",
        "\n",
        "1. $AB = BA = I$\n",
        "2. Nem lehet szinguláris mátrix, azaz $|A| \\neq 0$\n",
        "\n",
        "\n",
        "$B$ mátirx $A$ mátrix inverze és $A^{-1}$, és azt jelenti, hogy $A$ mátrixot megszorozva a saját inverzével identitás mátrixot kapunk, $A A^{-1} = I$.\n",
        "\n",
        "\n",
        "Például\n",
        "\n",
        "\n",
        "$$ \\large\n",
        "A =\n",
        "\\begin{bmatrix}\n",
        "2 & 1 & 0 \\\\\n",
        "0 & 1 & 0 \\\\\n",
        "1 & 2 & 1\n",
        "\\end{bmatrix} \n",
        "$$\n",
        "\n",
        "tehát,\n",
        "\n",
        "$$ \\large\n",
        "A A^{-1} = I_3\n",
        "\\quad \\Rightarrow \\quad\n",
        "\\begin{bmatrix}\n",
        "2 & 1 & 0 \\\\\n",
        "0 & 1 & 0 \\\\\n",
        "1 & 2 & 1\n",
        "\\end{bmatrix}\n",
        "\\begin{bmatrix}\n",
        "m_{11} & m_{12} & m_{13} \\\\\n",
        "m_{21} & m_{22} & m_{23} \\\\\n",
        "m_{31} & m_{32} & m_{33}\n",
        "\\end{bmatrix} =\n",
        "\\begin{bmatrix}\n",
        "1 & 0 & 0 \\\\\n",
        "0 & 1 & 0 \\\\\n",
        "0 & 0 & 1\n",
        "\\end{bmatrix}\n",
        "$$\n",
        "\n",
        "$$ \\large\n",
        "\\begin{bmatrix}\n",
        "2 m_{11} + m_{21} & 2 m_{12} + m_{22} & 2 m_{13} + m_{23} \\\\\n",
        "m_{21} & m_{22} & m_{23} \\\\\n",
        "m_{11} + 2 m_{21} + m_{31} & m_{12} + 2 m_{22} + m_{32} & m_{13} + 2 m_{23} + m_{33}\n",
        "\\end{bmatrix} = \n",
        "\\begin{bmatrix}\n",
        "1 & 0 & 0 \\\\\n",
        "0 & 1 & 0 \\\\\n",
        "0 & 0 & 1\n",
        "\\end{bmatrix}\n",
        "$$\n",
        "\n",
        "<br>\n",
        "\n",
        "Miután megoldottuk ezt a egyenletet (például Cramer féle szabállyal) az eredményünk a következő lesz:\n",
        "\n",
        "<br>\n",
        "\n",
        "$$ \\large\n",
        "M^{-1} = \n",
        "\\begin{bmatrix}\n",
        "\\frac{1}{2} & - \\frac{1}{2} & 0 \\\\\n",
        "0 & 1 & 0 \\\\\n",
        "- \\frac{1}{2} & - \\frac{3}{2} & 1\n",
        "\\end{bmatrix}\n",
        "$$"
      ]
    },
    {
      "cell_type": "code",
      "metadata": {
        "colab": {
          "base_uri": "https://localhost:8080/"
        },
        "id": "jSIfV8vUCKla",
        "outputId": "10055771-c70f-4884-e59c-a98382b3bc8b"
      },
      "source": [
        "M = np.array([\n",
        "    [2, 1, 0],\n",
        "    [0, 1, 0],\n",
        "    [1, 2, 1],\n",
        "])\n",
        "print(M, end=\" = M\\n\\n\")\n",
        "print(np.linalg.inv(M), end=\" = |M|\")"
      ],
      "execution_count": 11,
      "outputs": [
        {
          "output_type": "stream",
          "text": [
            "[[2 1 0]\n",
            " [0 1 0]\n",
            " [1 2 1]] = M\n",
            "\n",
            "[[ 0.5 -0.5  0. ]\n",
            " [ 0.   1.   0. ]\n",
            " [-0.5 -1.5  1. ]] = |M|"
          ],
          "name": "stdout"
        }
      ]
    },
    {
      "cell_type": "markdown",
      "metadata": {
        "id": "mtlNYf9hIzNK"
      },
      "source": [
        "\n",
        "<a name=\"felhasznalt-irodalom\"></a>\n",
        "\n",
        "[vissza a tartalomhoz](#tartalom)\n",
        "\n",
        "<a href=\"#tartalom\"><font color='white'>&nbsp;&nbsp;&nbsp;&nbsp;Main page</font></a>\n",
        "\n",
        "## Felhasznált irodalom és internetes cimek <a href=\"#tartalom\"><font color='white'>&nbsp;&nbsp;&nbsp;&nbsp;Main page</font></a>\n",
        "\n",
        "\n",
        "------------\n",
        "\n",
        "Mateking - Lineáris algebra - 'Determináns, sajátérték, sajátvektor'\n",
        "<br>\n",
        "https://www.mateking.hu/linearis-algebra/determinans-sajatertek-sajatvektor/mi-az-a-determinans#4\n",
        "\n",
        "\n",
        "Wikipedia - 'Determináns'\n",
        "<br>\n",
        "https://hu.wikipedia.org/wiki/Determin%C3%A1ns_(matematika)\n",
        "\n",
        "\n",
        "Wikikönyvek - 'Determináns'\n",
        "<br>\n",
        "https://hu.wikibooks.org/wiki/Matematika/M%C3%A1trix/Determin%C3%A1ns\n",
        "\n",
        "\n",
        "Wikipedia - 'Determináns'\n",
        "<br>\n",
        "https://hu.wikipedia.org/wiki/Invert%C3%A1lhat%C3%B3_m%C3%A1trix\n",
        "\n",
        "\n",
        "Mateking - Lineáris algebra - 'Determináns, sajátérték, sajátvektor'\n",
        "<br>\n",
        "https://www.mateking.hu/matematika-gti/linearis-algebra/matrix-inverze-negyzetes-matrixoknal-gauss\n",
        "\n",
        "\n",
        "Kis-Tóth Ágnes - ELTE Természettudományi Kar\n",
        "<br>\n",
        "http://skiszkao.web.elte.hu/vektor/Inverz_determinans(1).pdf"
      ]
    },
    {
      "cell_type": "code",
      "metadata": {
        "id": "a1LPz5XkJKo4"
      },
      "source": [
        ""
      ],
      "execution_count": null,
      "outputs": []
    }
  ]
}