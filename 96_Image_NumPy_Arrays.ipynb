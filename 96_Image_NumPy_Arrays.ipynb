{
  "nbformat": 4,
  "nbformat_minor": 0,
  "metadata": {
    "colab": {
      "name": "96 - Image - NumPy Arrays.ipynb",
      "provenance": [],
      "collapsed_sections": [],
      "authorship_tag": "ABX9TyOrOpVChEoPNbr+F5ohNieR",
      "include_colab_link": true
    },
    "kernelspec": {
      "name": "python3",
      "display_name": "Python 3"
    },
    "language_info": {
      "name": "python"
    }
  },
  "cells": [
    {
      "cell_type": "markdown",
      "metadata": {
        "id": "view-in-github",
        "colab_type": "text"
      },
      "source": [
        "<a href=\"https://colab.research.google.com/github/JoDeMiro/ImageProcessing/blob/main/96_Image_NumPy_Arrays.ipynb\" target=\"_parent\"><img src=\"https://colab.research.google.com/assets/colab-badge.svg\" alt=\"Open In Colab\"/></a>"
      ]
    },
    {
      "cell_type": "markdown",
      "metadata": {
        "id": "0dVjZEK2PWmg"
      },
      "source": [
        "<a name=\"tartalom\"></a>\n",
        "\n",
        "# NumPy Arrays\n",
        "---\n",
        "NumPy - *Vektor, Mátrix, Tensor*."
      ]
    },
    {
      "cell_type": "code",
      "metadata": {
        "id": "nX-zNYsWbV59"
      },
      "source": [
        "import numpy as np"
      ],
      "execution_count": 2,
      "outputs": []
    },
    {
      "cell_type": "code",
      "metadata": {
        "id": "nRJtfyQSbUcY"
      },
      "source": [
        "M = np.array([\n",
        "    [2, 3, 8],\n",
        "    [5, 7, 6]\n",
        "])\n",
        "N = np.array([\n",
        "    [1, 7],\n",
        "    [5, 6],\n",
        "    [2, 9],\n",
        "])"
      ],
      "execution_count": null,
      "outputs": []
    },
    {
      "cell_type": "code",
      "metadata": {
        "colab": {
          "base_uri": "https://localhost:8080/"
        },
        "id": "7vOSwyPFbYI-",
        "outputId": "d82a9b3f-86bf-4808-874e-a500d466d7ae"
      },
      "source": [
        "np.dot(M,N)"
      ],
      "execution_count": null,
      "outputs": [
        {
          "output_type": "execute_result",
          "data": {
            "text/plain": [
              "array([[ 33, 104],\n",
              "       [ 52, 131]])"
            ]
          },
          "metadata": {
            "tags": []
          },
          "execution_count": 5
        }
      ]
    },
    {
      "cell_type": "code",
      "metadata": {
        "colab": {
          "base_uri": "https://localhost:8080/"
        },
        "id": "NHZfUUgbbdmf",
        "outputId": "2e9c3d0f-4b5f-4d7c-968b-5375a1bd2b62"
      },
      "source": [
        "np.dot(N,M)"
      ],
      "execution_count": null,
      "outputs": [
        {
          "output_type": "execute_result",
          "data": {
            "text/plain": [
              "array([[37, 52, 50],\n",
              "       [40, 57, 76],\n",
              "       [49, 69, 70]])"
            ]
          },
          "metadata": {
            "tags": []
          },
          "execution_count": 6
        }
      ]
    },
    {
      "cell_type": "code",
      "metadata": {
        "colab": {
          "base_uri": "https://localhost:8080/"
        },
        "id": "wvry6V-dbmH_",
        "outputId": "e82b45e0-9aa2-49b1-c46d-7bd20ba8c390"
      },
      "source": [
        "image = np.array([[1,1,4],\n",
        "                  [1,2,5],\n",
        "                  [1,3,5],\n",
        "                  [1,4,7],\n",
        "                  [2,1,6],\n",
        "                  [2,2,5],\n",
        "                  [2,3,4],\n",
        "                  [2,4,5],\n",
        "                  [3,1,6],\n",
        "                  [3,2,7],\n",
        "                  [3,3,8],\n",
        "                  [3,4,7],\n",
        "                  [4,1,6],\n",
        "                  [4,2,5],\n",
        "                  [4,3,4],\n",
        "                  [4,4,3]])\n",
        "\n",
        "t = np.array([[1,0,0],\n",
        "              [0,1,0],\n",
        "              [0,0,1]])\n",
        "\n",
        "print(image.shape)\n",
        "print(t.shape)"
      ],
      "execution_count": null,
      "outputs": [
        {
          "output_type": "stream",
          "text": [
            "(16, 3)\n",
            "(3, 3)\n"
          ],
          "name": "stdout"
        }
      ]
    },
    {
      "cell_type": "code",
      "metadata": {
        "colab": {
          "base_uri": "https://localhost:8080/"
        },
        "id": "oS9ObhNTctYt",
        "outputId": "3b64509a-ab5f-4a4e-b91f-946090a6f0fb"
      },
      "source": [
        "np.dot(image,t)"
      ],
      "execution_count": null,
      "outputs": [
        {
          "output_type": "execute_result",
          "data": {
            "text/plain": [
              "array([[1, 1, 4],\n",
              "       [1, 2, 5],\n",
              "       [1, 3, 5],\n",
              "       [1, 4, 7],\n",
              "       [2, 1, 6],\n",
              "       [2, 2, 5],\n",
              "       [2, 3, 4],\n",
              "       [2, 4, 5],\n",
              "       [3, 1, 6],\n",
              "       [3, 2, 7],\n",
              "       [3, 3, 8],\n",
              "       [3, 4, 7],\n",
              "       [4, 1, 6],\n",
              "       [4, 2, 5],\n",
              "       [4, 3, 4],\n",
              "       [4, 4, 3]])"
            ]
          },
          "metadata": {
            "tags": []
          },
          "execution_count": 11
        }
      ]
    },
    {
      "cell_type": "code",
      "metadata": {
        "colab": {
          "base_uri": "https://localhost:8080/"
        },
        "id": "j0CAfiFOc5ZR",
        "outputId": "c02e5942-3602-4c99-f693-0f440b950b03"
      },
      "source": [
        "image[1]"
      ],
      "execution_count": null,
      "outputs": [
        {
          "output_type": "execute_result",
          "data": {
            "text/plain": [
              "array([1, 2, 5])"
            ]
          },
          "metadata": {
            "tags": []
          },
          "execution_count": 12
        }
      ]
    },
    {
      "cell_type": "code",
      "metadata": {
        "colab": {
          "base_uri": "https://localhost:8080/"
        },
        "id": "JKRSZn7fdQv7",
        "outputId": "60ff7a4f-824d-4e7f-985e-1d0262a8acef"
      },
      "source": [
        "image[1][2]"
      ],
      "execution_count": null,
      "outputs": [
        {
          "output_type": "execute_result",
          "data": {
            "text/plain": [
              "5"
            ]
          },
          "metadata": {
            "tags": []
          },
          "execution_count": 13
        }
      ]
    },
    {
      "cell_type": "markdown",
      "metadata": {
        "id": "T9Wypf3OfF42"
      },
      "source": [
        "# NumPy Arrays"
      ]
    },
    {
      "cell_type": "code",
      "metadata": {
        "colab": {
          "base_uri": "https://localhost:8080/"
        },
        "id": "h0WDQOXWdUa5",
        "outputId": "78f2e4d8-9c41-4eb9-8a57-d4da0232a58f"
      },
      "source": [
        "a1 = np.arange(1,13)\n",
        "\n",
        "a1"
      ],
      "execution_count": null,
      "outputs": [
        {
          "output_type": "execute_result",
          "data": {
            "text/plain": [
              "array([ 1,  2,  3,  4,  5,  6,  7,  8,  9, 10, 11, 12])"
            ]
          },
          "metadata": {
            "tags": []
          },
          "execution_count": 15
        }
      ]
    },
    {
      "cell_type": "code",
      "metadata": {
        "colab": {
          "base_uri": "https://localhost:8080/"
        },
        "id": "VPwDp0XHfN7d",
        "outputId": "cb442c37-7568-417b-8a9e-410f14b9ce77"
      },
      "source": [
        "# reshape\n",
        "a1.reshape(3,4)"
      ],
      "execution_count": null,
      "outputs": [
        {
          "output_type": "execute_result",
          "data": {
            "text/plain": [
              "array([[ 1,  2,  3,  4],\n",
              "       [ 5,  6,  7,  8],\n",
              "       [ 9, 10, 11, 12]])"
            ]
          },
          "metadata": {
            "tags": []
          },
          "execution_count": 17
        }
      ]
    },
    {
      "cell_type": "code",
      "metadata": {
        "colab": {
          "base_uri": "https://localhost:8080/"
        },
        "id": "WrFjrP0IfW71",
        "outputId": "f107473e-1cc3-4838-916a-c6cfb4be68c5"
      },
      "source": [
        "# reshape\n",
        "a1.reshape(-1, 4)"
      ],
      "execution_count": null,
      "outputs": [
        {
          "output_type": "execute_result",
          "data": {
            "text/plain": [
              "array([[ 1,  2,  3,  4],\n",
              "       [ 5,  6,  7,  8],\n",
              "       [ 9, 10, 11, 12]])"
            ]
          },
          "metadata": {
            "tags": []
          },
          "execution_count": 18
        }
      ]
    },
    {
      "cell_type": "code",
      "metadata": {
        "colab": {
          "base_uri": "https://localhost:8080/"
        },
        "id": "mU0NCSUEffa4",
        "outputId": "00741ff6-9905-4b29-dcc3-6320f1356566"
      },
      "source": [
        "# reshape\n",
        "a1.reshape(3, -1)"
      ],
      "execution_count": null,
      "outputs": [
        {
          "output_type": "execute_result",
          "data": {
            "text/plain": [
              "array([[ 1,  2,  3,  4],\n",
              "       [ 5,  6,  7,  8],\n",
              "       [ 9, 10, 11, 12]])"
            ]
          },
          "metadata": {
            "tags": []
          },
          "execution_count": 19
        }
      ]
    },
    {
      "cell_type": "code",
      "metadata": {
        "colab": {
          "base_uri": "https://localhost:8080/"
        },
        "id": "FqT3t5UOfkQA",
        "outputId": "f438e2ab-a029-481a-942e-057b176645ff"
      },
      "source": [
        "# reshape\n",
        "a1.reshape(4,3)"
      ],
      "execution_count": null,
      "outputs": [
        {
          "output_type": "execute_result",
          "data": {
            "text/plain": [
              "array([[ 1,  2,  3],\n",
              "       [ 4,  5,  6],\n",
              "       [ 7,  8,  9],\n",
              "       [10, 11, 12]])"
            ]
          },
          "metadata": {
            "tags": []
          },
          "execution_count": 20
        }
      ]
    },
    {
      "cell_type": "code",
      "metadata": {
        "colab": {
          "base_uri": "https://localhost:8080/"
        },
        "id": "DcTUyMWEfuXR",
        "outputId": "f514f60b-90c8-483a-8222-26d6dc5d1dee"
      },
      "source": [
        "# reshape\n",
        "a1.reshape(3, -1, order = 'F')"
      ],
      "execution_count": null,
      "outputs": [
        {
          "output_type": "execute_result",
          "data": {
            "text/plain": [
              "array([[ 1,  4,  7, 10],\n",
              "       [ 2,  5,  8, 11],\n",
              "       [ 3,  6,  9, 12]])"
            ]
          },
          "metadata": {
            "tags": []
          },
          "execution_count": 22
        }
      ]
    },
    {
      "cell_type": "code",
      "metadata": {
        "colab": {
          "base_uri": "https://localhost:8080/"
        },
        "id": "I2ce_tL3rLMW",
        "outputId": "b353164c-ba27-4df7-8a3c-5a598f002eff"
      },
      "source": [
        "# reshape\n",
        "a1.reshape(3, -1, order = 'C')"
      ],
      "execution_count": null,
      "outputs": [
        {
          "output_type": "execute_result",
          "data": {
            "text/plain": [
              "array([[ 1,  2,  3,  4],\n",
              "       [ 5,  6,  7,  8],\n",
              "       [ 9, 10, 11, 12]])"
            ]
          },
          "metadata": {
            "tags": []
          },
          "execution_count": 23
        }
      ]
    },
    {
      "cell_type": "markdown",
      "metadata": {
        "id": "TgyFCbB1rp01"
      },
      "source": [
        "# 3D array from 2D arrays"
      ]
    },
    {
      "cell_type": "code",
      "metadata": {
        "id": "-fXdP0-KrSh-"
      },
      "source": [
        "a1 = np.arange(1, 13).reshape(3, 4)\n",
        "a2 = np.arange(13, 25).reshape(3, 4)"
      ],
      "execution_count": null,
      "outputs": []
    },
    {
      "cell_type": "code",
      "metadata": {
        "colab": {
          "base_uri": "https://localhost:8080/"
        },
        "id": "FeNGMtqNsYVh",
        "outputId": "3dab1ca1-192e-4d18-9dcf-911efc0a171f"
      },
      "source": [
        "print(a1)\n",
        "print('')\n",
        "print(a2)"
      ],
      "execution_count": null,
      "outputs": [
        {
          "output_type": "stream",
          "text": [
            "[[ 1  2  3  4]\n",
            " [ 5  6  7  8]\n",
            " [ 9 10 11 12]]\n",
            "\n",
            "[[13 14 15 16]\n",
            " [17 18 19 20]\n",
            " [21 22 23 24]]\n"
          ],
          "name": "stdout"
        }
      ]
    },
    {
      "cell_type": "code",
      "metadata": {
        "colab": {
          "base_uri": "https://localhost:8080/"
        },
        "id": "bY0hYjCbrzCb",
        "outputId": "24a3451a-ecc0-42fe-bf61-c79df918d64d"
      },
      "source": [
        "# stack along axis 2\n",
        "np.stack((a1, a2), axis = 2)"
      ],
      "execution_count": null,
      "outputs": [
        {
          "output_type": "execute_result",
          "data": {
            "text/plain": [
              "array([[[ 1, 13],\n",
              "        [ 2, 14],\n",
              "        [ 3, 15],\n",
              "        [ 4, 16]],\n",
              "\n",
              "       [[ 5, 17],\n",
              "        [ 6, 18],\n",
              "        [ 7, 19],\n",
              "        [ 8, 20]],\n",
              "\n",
              "       [[ 9, 21],\n",
              "        [10, 22],\n",
              "        [11, 23],\n",
              "        [12, 24]]])"
            ]
          },
          "metadata": {
            "tags": []
          },
          "execution_count": 27
        }
      ]
    },
    {
      "cell_type": "code",
      "metadata": {
        "colab": {
          "base_uri": "https://localhost:8080/"
        },
        "id": "Uf4Fwn4ptGV7",
        "outputId": "30967a2c-a4ed-4e99-b0dd-96f53e6d0862"
      },
      "source": [
        "np.stack((a1, a2), axis = 2).shape"
      ],
      "execution_count": null,
      "outputs": [
        {
          "output_type": "execute_result",
          "data": {
            "text/plain": [
              "(3, 4, 2)"
            ]
          },
          "metadata": {
            "tags": []
          },
          "execution_count": 35
        }
      ]
    },
    {
      "cell_type": "code",
      "metadata": {
        "colab": {
          "base_uri": "https://localhost:8080/"
        },
        "id": "IgVoPjEqsUH-",
        "outputId": "369428bc-0909-40c5-c9a3-3e9b2a846dff"
      },
      "source": [
        "# stack along axis 1\n",
        "np.stack((a1, a2), axis = 1)"
      ],
      "execution_count": null,
      "outputs": [
        {
          "output_type": "execute_result",
          "data": {
            "text/plain": [
              "array([[[ 1,  2,  3,  4],\n",
              "        [13, 14, 15, 16]],\n",
              "\n",
              "       [[ 5,  6,  7,  8],\n",
              "        [17, 18, 19, 20]],\n",
              "\n",
              "       [[ 9, 10, 11, 12],\n",
              "        [21, 22, 23, 24]]])"
            ]
          },
          "metadata": {
            "tags": []
          },
          "execution_count": 31
        }
      ]
    },
    {
      "cell_type": "code",
      "metadata": {
        "colab": {
          "base_uri": "https://localhost:8080/"
        },
        "id": "wq-thVpYtBQz",
        "outputId": "f33a201d-498b-463d-c0cc-3f1224d5d761"
      },
      "source": [
        "np.stack((a1, a2), axis = 1).shape"
      ],
      "execution_count": null,
      "outputs": [
        {
          "output_type": "execute_result",
          "data": {
            "text/plain": [
              "(3, 2, 4)"
            ]
          },
          "metadata": {
            "tags": []
          },
          "execution_count": 34
        }
      ]
    },
    {
      "cell_type": "code",
      "metadata": {
        "colab": {
          "base_uri": "https://localhost:8080/"
        },
        "id": "S8G3zE2VsovD",
        "outputId": "b9e576e5-ac1d-4e24-e036-75b9cb19fc0b"
      },
      "source": [
        "# stack along axis 0\n",
        "np.stack((a1, a2))"
      ],
      "execution_count": null,
      "outputs": [
        {
          "output_type": "execute_result",
          "data": {
            "text/plain": [
              "array([[[ 1,  2,  3,  4],\n",
              "        [ 5,  6,  7,  8],\n",
              "        [ 9, 10, 11, 12]],\n",
              "\n",
              "       [[13, 14, 15, 16],\n",
              "        [17, 18, 19, 20],\n",
              "        [21, 22, 23, 24]]])"
            ]
          },
          "metadata": {
            "tags": []
          },
          "execution_count": 32
        }
      ]
    },
    {
      "cell_type": "code",
      "metadata": {
        "colab": {
          "base_uri": "https://localhost:8080/"
        },
        "id": "MdHjo9n4s11c",
        "outputId": "12396e3b-0fd7-424f-99fb-c4ec493a81ca"
      },
      "source": [
        "np.stack((a1,a2)).shape"
      ],
      "execution_count": null,
      "outputs": [
        {
          "output_type": "execute_result",
          "data": {
            "text/plain": [
              "(2, 3, 4)"
            ]
          },
          "metadata": {
            "tags": []
          },
          "execution_count": 33
        }
      ]
    },
    {
      "cell_type": "markdown",
      "metadata": {
        "id": "JlFGwwEGtWIR"
      },
      "source": [
        "# 2D matrix from 1D vector"
      ]
    },
    {
      "cell_type": "code",
      "metadata": {
        "id": "slJc9A0as7dv"
      },
      "source": [
        "a1 = np.arange(1, 13)\n",
        "a2 = np.arange(13, 25)"
      ],
      "execution_count": null,
      "outputs": []
    },
    {
      "cell_type": "code",
      "metadata": {
        "colab": {
          "base_uri": "https://localhost:8080/"
        },
        "id": "hlXDOTyTtk9q",
        "outputId": "7a49eec1-92a5-4118-d519-d3a526f757fd"
      },
      "source": [
        "np.stack((a1, a2))"
      ],
      "execution_count": null,
      "outputs": [
        {
          "output_type": "execute_result",
          "data": {
            "text/plain": [
              "array([[ 1,  2,  3,  4,  5,  6,  7,  8,  9, 10, 11, 12],\n",
              "       [13, 14, 15, 16, 17, 18, 19, 20, 21, 22, 23, 24]])"
            ]
          },
          "metadata": {
            "tags": []
          },
          "execution_count": 37
        }
      ]
    },
    {
      "cell_type": "code",
      "metadata": {
        "colab": {
          "base_uri": "https://localhost:8080/"
        },
        "id": "uEeHJWzgtnFs",
        "outputId": "44a09f9c-b5cf-4ffd-e5b1-f6c5c06e50bd"
      },
      "source": [
        "np.stack((a1, a2), axis = 1)"
      ],
      "execution_count": null,
      "outputs": [
        {
          "output_type": "execute_result",
          "data": {
            "text/plain": [
              "array([[ 1, 13],\n",
              "       [ 2, 14],\n",
              "       [ 3, 15],\n",
              "       [ 4, 16],\n",
              "       [ 5, 17],\n",
              "       [ 6, 18],\n",
              "       [ 7, 19],\n",
              "       [ 8, 20],\n",
              "       [ 9, 21],\n",
              "       [10, 22],\n",
              "       [11, 23],\n",
              "       [12, 24]])"
            ]
          },
          "metadata": {
            "tags": []
          },
          "execution_count": 38
        }
      ]
    },
    {
      "cell_type": "code",
      "metadata": {
        "colab": {
          "base_uri": "https://localhost:8080/"
        },
        "id": "RZq_MH1it12y",
        "outputId": "704582ff-8668-437c-a6ff-897d7f180476"
      },
      "source": [
        "np.stack((a1, a2), axis = 1).T"
      ],
      "execution_count": null,
      "outputs": [
        {
          "output_type": "execute_result",
          "data": {
            "text/plain": [
              "array([[ 1,  2,  3,  4,  5,  6,  7,  8,  9, 10, 11, 12],\n",
              "       [13, 14, 15, 16, 17, 18, 19, 20, 21, 22, 23, 24]])"
            ]
          },
          "metadata": {
            "tags": []
          },
          "execution_count": 39
        }
      ]
    },
    {
      "cell_type": "markdown",
      "metadata": {
        "id": "QxYAUAo9uPbQ"
      },
      "source": [
        "# Concatenate two vector"
      ]
    },
    {
      "cell_type": "code",
      "metadata": {
        "colab": {
          "base_uri": "https://localhost:8080/"
        },
        "id": "P8phXh0mt9S-",
        "outputId": "c29083d6-93b3-43ac-e4c1-9b827c6d06c5"
      },
      "source": [
        "np.hstack((a1, a2))"
      ],
      "execution_count": null,
      "outputs": [
        {
          "output_type": "execute_result",
          "data": {
            "text/plain": [
              "array([ 1,  2,  3,  4,  5,  6,  7,  8,  9, 10, 11, 12, 13, 14, 15, 16, 17,\n",
              "       18, 19, 20, 21, 22, 23, 24])"
            ]
          },
          "metadata": {
            "tags": []
          },
          "execution_count": 41
        }
      ]
    },
    {
      "cell_type": "markdown",
      "metadata": {
        "id": "SkXqySIwREgL"
      },
      "source": [
        "# Mátrix rangja"
      ]
    },
    {
      "cell_type": "code",
      "metadata": {
        "colab": {
          "base_uri": "https://localhost:8080/"
        },
        "id": "sOMVWZ7YQ7G6",
        "outputId": "1f685667-907f-41ec-d931-719988392a94"
      },
      "source": [
        "matrix = np.array([[1, 1, 1],\n",
        "                   [1, 1, 10],\n",
        "                   [1, 1, 15]])\n",
        "\n",
        "np.linalg.matrix_rank(matrix)"
      ],
      "execution_count": 3,
      "outputs": [
        {
          "output_type": "execute_result",
          "data": {
            "text/plain": [
              "2"
            ]
          },
          "metadata": {
            "tags": []
          },
          "execution_count": 3
        }
      ]
    },
    {
      "cell_type": "code",
      "metadata": {
        "colab": {
          "base_uri": "https://localhost:8080/"
        },
        "id": "X-g2dC_pQ7Ec",
        "outputId": "d8aaf0b5-1150-4873-d5d3-d2d12ead67ae"
      },
      "source": [
        "matrix = np.array([[1, 2, 3],\n",
        "                   [4, 5, 6],\n",
        "                   [7, 8, 9]])\n",
        "\n",
        "np.linalg.matrix_rank(matrix)"
      ],
      "execution_count": 4,
      "outputs": [
        {
          "output_type": "execute_result",
          "data": {
            "text/plain": [
              "2"
            ]
          },
          "metadata": {
            "tags": []
          },
          "execution_count": 4
        }
      ]
    },
    {
      "cell_type": "markdown",
      "metadata": {
        "id": "qENE3uxJRm7d"
      },
      "source": [
        "# Mátrix determinánsa"
      ]
    },
    {
      "cell_type": "code",
      "metadata": {
        "colab": {
          "base_uri": "https://localhost:8080/"
        },
        "id": "wUjn-lGTRmXa",
        "outputId": "834ce524-b362-4324-8663-65bfcee07ba7"
      },
      "source": [
        "matrix = np.array([[1, 2, 3],\n",
        "                   [2, 4, 6],\n",
        "                   [3, 8, 9]])\n",
        "\n",
        "np.linalg.det(matrix)"
      ],
      "execution_count": 5,
      "outputs": [
        {
          "output_type": "execute_result",
          "data": {
            "text/plain": [
              "0.0"
            ]
          },
          "metadata": {
            "tags": []
          },
          "execution_count": 5
        }
      ]
    },
    {
      "cell_type": "code",
      "metadata": {
        "colab": {
          "base_uri": "https://localhost:8080/"
        },
        "id": "_a7ZGr8mRmVI",
        "outputId": "0f2598a4-c7ab-4f87-fd7e-5dfd16b576ba"
      },
      "source": [
        "matrix = np.array([[1, 1, 5],\n",
        "                   [5, 1, 10],\n",
        "                   [1, 1, 15]])\n",
        "\n",
        "np.linalg.det(matrix)"
      ],
      "execution_count": 9,
      "outputs": [
        {
          "output_type": "execute_result",
          "data": {
            "text/plain": [
              "-40.000000000000014"
            ]
          },
          "metadata": {
            "tags": []
          },
          "execution_count": 9
        }
      ]
    },
    {
      "cell_type": "markdown",
      "metadata": {
        "id": "gTYtIfGVSI0a"
      },
      "source": [
        "# Mátrix diagonálisa"
      ]
    },
    {
      "cell_type": "code",
      "metadata": {
        "colab": {
          "base_uri": "https://localhost:8080/"
        },
        "id": "cAtYnDMzRmS5",
        "outputId": "43a96fb2-9bc9-41cd-f756-cc74e5bb8d7a"
      },
      "source": [
        "matrix = np.array([[1, 2, 3],\n",
        "                   [2, 4, 6],\n",
        "                   [3, 8, 9]])\n",
        "\n",
        "np.diagonal(matrix)"
      ],
      "execution_count": 11,
      "outputs": [
        {
          "output_type": "execute_result",
          "data": {
            "text/plain": [
              "array([1, 4, 9])"
            ]
          },
          "metadata": {
            "tags": []
          },
          "execution_count": 11
        }
      ]
    },
    {
      "cell_type": "code",
      "metadata": {
        "colab": {
          "base_uri": "https://localhost:8080/"
        },
        "id": "2MPDvbCJRmQs",
        "outputId": "dd5b13bd-9f76-4e4a-d22e-a17597d8e641"
      },
      "source": [
        "matrix.diagonal(offset=1)"
      ],
      "execution_count": 12,
      "outputs": [
        {
          "output_type": "execute_result",
          "data": {
            "text/plain": [
              "array([2, 6])"
            ]
          },
          "metadata": {
            "tags": []
          },
          "execution_count": 12
        }
      ]
    },
    {
      "cell_type": "code",
      "metadata": {
        "colab": {
          "base_uri": "https://localhost:8080/"
        },
        "id": "stJ00Jb2RmOa",
        "outputId": "4b275449-cf19-4ba9-94c0-93837fc29d52"
      },
      "source": [
        "matrix.diagonal(offset=-1)"
      ],
      "execution_count": 13,
      "outputs": [
        {
          "output_type": "execute_result",
          "data": {
            "text/plain": [
              "array([2, 8])"
            ]
          },
          "metadata": {
            "tags": []
          },
          "execution_count": 13
        }
      ]
    },
    {
      "cell_type": "markdown",
      "metadata": {
        "id": "LEuJb22ISrvJ"
      },
      "source": [
        "# Trace"
      ]
    },
    {
      "cell_type": "code",
      "metadata": {
        "colab": {
          "base_uri": "https://localhost:8080/"
        },
        "id": "Qq8nGgcORmMG",
        "outputId": "f5047522-872c-4844-e1b8-d6a4b3caf426"
      },
      "source": [
        "matrix = np.array([[1, 2, 3],\n",
        "                   [2, 4, 6],\n",
        "                   [3, 8, 9]])\n",
        "\n",
        "matrix.trace()"
      ],
      "execution_count": 14,
      "outputs": [
        {
          "output_type": "execute_result",
          "data": {
            "text/plain": [
              "14"
            ]
          },
          "metadata": {
            "tags": []
          },
          "execution_count": 14
        }
      ]
    },
    {
      "cell_type": "code",
      "metadata": {
        "colab": {
          "base_uri": "https://localhost:8080/"
        },
        "id": "GtF377K_RmJu",
        "outputId": "30c6254e-02d8-4f5b-a1e8-bfa373453c80"
      },
      "source": [
        "sum(matrix.diagonal())"
      ],
      "execution_count": 15,
      "outputs": [
        {
          "output_type": "execute_result",
          "data": {
            "text/plain": [
              "14"
            ]
          },
          "metadata": {
            "tags": []
          },
          "execution_count": 15
        }
      ]
    },
    {
      "cell_type": "markdown",
      "metadata": {
        "id": "Mn7MOXo9S9jz"
      },
      "source": [
        "# Négyzetes mátrix sajátértéke sajátvektora\n",
        "\n",
        "A sajátvektorokat széles körben használják a machine learning könyvtárak.\n",
        "\n",
        "Vegyünk egy lineáris transzformációt reprezentáljuk $A$ mátrixal. Ekkor a sajátvektorok azok a vektorok, amelyek ha a transzformációt vesszük nem változtatják az irányukat, csak a méretüket.\n",
        "\n",
        "$$A v = \\lambda v$$\n",
        "\n",
        "$A$ egy négyzetes mátrix és $\\lambda$ tartalmazza a sajátértékekeket és $v$ tartlamazza a sajátvektorokat.\n",
        "\n",
        "Akkor a $A$ mátrixnak a $v$ sajátvektorokkal vett szorzata és a $\\lambda$ sajátértéknek a $v$ sajátvektorokkal vett szorzata egyenlő."
      ]
    },
    {
      "cell_type": "code",
      "metadata": {
        "colab": {
          "base_uri": "https://localhost:8080/"
        },
        "id": "Zg3n6qx6S9OO",
        "outputId": "22fc2e16-abd4-4b0f-ac6a-c2b533ac9841"
      },
      "source": [
        "matrix = np.array([[1, -1, 3],\n",
        "                   [1, 1, 6],\n",
        "                   [3, 8, 9]])\n",
        "\n",
        "\n",
        "eigenvalues, eigenvectors = np.linalg.eig(matrix)\n",
        "\n",
        "print(eigenvalues)\n",
        "print('')\n",
        "print(eigenvectors)"
      ],
      "execution_count": 23,
      "outputs": [
        {
          "output_type": "stream",
          "text": [
            "[13.55075847  0.74003145 -3.29078992]\n",
            "\n",
            "[[-0.17622017 -0.96677403 -0.53373322]\n",
            " [-0.435951    0.2053623  -0.64324848]\n",
            " [-0.88254925  0.15223105  0.54896288]]\n"
          ],
          "name": "stdout"
        }
      ]
    },
    {
      "cell_type": "code",
      "metadata": {
        "colab": {
          "base_uri": "https://localhost:8080/"
        },
        "id": "tOjaOJOQS9MI",
        "outputId": "8f901291-dfe4-413e-a4e5-2ba2fd378ff4"
      },
      "source": [
        "np.dot(matrix,eigenvectors)"
      ],
      "execution_count": 26,
      "outputs": [
        {
          "output_type": "execute_result",
          "data": {
            "text/plain": [
              "array([[ -2.38791692,  -0.71544319,   1.7564039 ],\n",
              "       [ -5.90746667,   0.15197456,   2.1167956 ],\n",
              "       [-11.95921174,   0.11265576,  -1.80652152]])"
            ]
          },
          "metadata": {
            "tags": []
          },
          "execution_count": 26
        }
      ]
    },
    {
      "cell_type": "code",
      "metadata": {
        "colab": {
          "base_uri": "https://localhost:8080/"
        },
        "id": "SdC6gVjBS9Jm",
        "outputId": "4d53afbf-790e-4423-bfb6-1dbebed2632e"
      },
      "source": [
        "eigenvalues * eigenvectors"
      ],
      "execution_count": 25,
      "outputs": [
        {
          "output_type": "execute_result",
          "data": {
            "text/plain": [
              "array([[ -2.38791692,  -0.71544319,   1.7564039 ],\n",
              "       [ -5.90746667,   0.15197456,   2.1167956 ],\n",
              "       [-11.95921174,   0.11265576,  -1.80652152]])"
            ]
          },
          "metadata": {
            "tags": []
          },
          "execution_count": 25
        }
      ]
    },
    {
      "cell_type": "markdown",
      "metadata": {
        "id": "rJLDoTaKXO-O"
      },
      "source": [
        "# Skaláris szorzat - Dot Product\n",
        "\n",
        "A skaláris szorzat, elemenként vagy páronként való szorzat összege:\n",
        "\n",
        "$$\\sum_{i=1}^{n}a_i*b_i$$\n",
        "\n",
        "Vagyis $a$ vektor $i$-edik elemét megszorozzuk $b$ vektor $i$-edik elemével.\n"
      ]
    },
    {
      "cell_type": "code",
      "metadata": {
        "colab": {
          "base_uri": "https://localhost:8080/"
        },
        "id": "lcW8U2K_S9FP",
        "outputId": "3cf70945-47e3-471e-88f8-e86a4d371cf3"
      },
      "source": [
        "\n",
        "a = np.array([1,2,3])\n",
        "b = np.array([4,5,6])\n",
        "\n",
        "np.dot(a, b)\n"
      ],
      "execution_count": 28,
      "outputs": [
        {
          "output_type": "execute_result",
          "data": {
            "text/plain": [
              "32"
            ]
          },
          "metadata": {
            "tags": []
          },
          "execution_count": 28
        }
      ]
    },
    {
      "cell_type": "code",
      "metadata": {
        "colab": {
          "base_uri": "https://localhost:8080/"
        },
        "id": "xOF34LJCS9C2",
        "outputId": "2012e972-c515-42b0-f819-cd98a0fa1693"
      },
      "source": [
        "s = 0\n",
        "for i in range(len(a)):\n",
        "  s += a[i] * b[i]\n",
        "\n",
        "s"
      ],
      "execution_count": 29,
      "outputs": [
        {
          "output_type": "execute_result",
          "data": {
            "text/plain": [
              "32"
            ]
          },
          "metadata": {
            "tags": []
          },
          "execution_count": 29
        }
      ]
    },
    {
      "cell_type": "markdown",
      "metadata": {
        "id": "fkUgvEdnYQf9"
      },
      "source": [
        "Használhatjuk a NumPy dot függvényént a skaláris szorzat kiszámításához, de az újabb Python verzióban már használhatjuk a @ operátort is."
      ]
    },
    {
      "cell_type": "code",
      "metadata": {
        "colab": {
          "base_uri": "https://localhost:8080/"
        },
        "id": "jVDM8U2rS9AN",
        "outputId": "f9605420-86ac-4a2a-f21b-57bb94168edb"
      },
      "source": [
        "# Python 3.5 verziójától fogva használhatjuk az alábbi operátort is\n",
        "\n",
        "a @ b"
      ],
      "execution_count": 31,
      "outputs": [
        {
          "output_type": "execute_result",
          "data": {
            "text/plain": [
              "32"
            ]
          },
          "metadata": {
            "tags": []
          },
          "execution_count": 31
        }
      ]
    },
    {
      "cell_type": "markdown",
      "metadata": {
        "id": "HBYVKFwwPPjX"
      },
      "source": [
        "\n",
        "<a name=\"felhasznalt-irodalom\"></a>\n",
        "\n",
        "[vissza a tartalomhoz](#tartalom)\n",
        "\n",
        "<a href=\"#tartalom\"><font color='white'>&nbsp;&nbsp;&nbsp;&nbsp;Main page</font></a>\n",
        "\n",
        "## Felhasznált irodalom és internetes cimek <a href=\"#tartalom\"><font color='white'>&nbsp;&nbsp;&nbsp;&nbsp;Main page</font></a>\n",
        "\n",
        "\n",
        "Numpy Arrays in Python\n",
        "<br>\n",
        "https://towardsdatascience.com/reshaping-numpy-arrays-in-python-a-step-by-step-pictorial-tutorial-aed5f471cf0b\n",
        "\n",
        "\n",
        "Chapter 1. Vectors, Matrices, and Arrays\n",
        "<br>\n",
        "https://www.oreilly.com/library/view/machine-learning-with/9781491989371/ch01.html\n",
        "\n",
        "Math is Fun - Vectors\n",
        "<br>\n",
        "https://www.mathsisfun.com/algebra/vectors.html\n",
        "\n",
        "\n",
        "Wikipedia - 'Euclidean Vector'\n",
        "<br>\n",
        "https://en.wikipedia.org/wiki/Euclidean_vector\n",
        "\n",
        "\n",
        "The determinant | Essence of linear algebra, chapter 5, 3Blue1Brown\n",
        "<br>\n",
        "https://www.youtube.com/watch?v=Ip3X9LOh2dk\n",
        "\n",
        "\n",
        "Determinant, Wolfram MathWorld\n",
        "<br>\n",
        "https://mathworld.wolfram.com/Determinant.html\n",
        "\n",
        "\n",
        "The rank of the matrix\n",
        "<br>\n",
        "https://www.cliffsnotes.com/study-guides/algebra/linear-algebra/real-euclidean-vector-spaces/the-rank-of-a-matrix\n",
        "\n",
        "\n",
        "Eigenvectors and Eigenvalues Explained Visually, Setosa.io\n",
        "<br>\n",
        "https://setosa.io/ev/eigenvectors-and-eigenvalues/\n",
        "\n",
        "\n",
        "Eigenvectors and eigenvalues | Essence of linear algebra, Chapter 10, 3Blue1Brown\n",
        "<br>\n",
        "https://www.youtube.com/watch?v=PFDu9oVAE-g\n",
        "\n",
        "\n",
        "Vector dot product and vector length, Khan Academy\n",
        "<br>\n",
        "https://www.khanacademy.org/math/linear-algebra/vectors-and-spaces/dot-cross-products/v/vector-dot-product-and-vector-length\n",
        "\n",
        "\n",
        "Dot Product, Paul’s Online Math Notes\n",
        "<br>\n",
        "https://tutorial.math.lamar.edu/Classes/CalcII/DotProduct.aspx\n",
        "\n"
      ]
    },
    {
      "cell_type": "code",
      "metadata": {
        "id": "aCU-ZPP6PQUH"
      },
      "source": [
        ""
      ],
      "execution_count": null,
      "outputs": []
    }
  ]
}