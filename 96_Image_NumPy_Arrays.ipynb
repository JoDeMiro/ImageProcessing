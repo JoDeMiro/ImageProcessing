{
  "nbformat": 4,
  "nbformat_minor": 0,
  "metadata": {
    "colab": {
      "name": "96 - Image - NumPy Arrays.ipynb",
      "provenance": [],
      "collapsed_sections": [],
      "authorship_tag": "ABX9TyPoE/yRY4u1uqIms60Vp3p9",
      "include_colab_link": true
    },
    "kernelspec": {
      "name": "python3",
      "display_name": "Python 3"
    },
    "language_info": {
      "name": "python"
    }
  },
  "cells": [
    {
      "cell_type": "markdown",
      "metadata": {
        "id": "view-in-github",
        "colab_type": "text"
      },
      "source": [
        "<a href=\"https://colab.research.google.com/github/JoDeMiro/ImageProcessing/blob/main/96_Image_NumPy_Arrays.ipynb\" target=\"_parent\"><img src=\"https://colab.research.google.com/assets/colab-badge.svg\" alt=\"Open In Colab\"/></a>"
      ]
    },
    {
      "cell_type": "markdown",
      "metadata": {
        "id": "0dVjZEK2PWmg"
      },
      "source": [
        "<a name=\"tartalom\"></a>\n",
        "\n",
        "# NumPy Arrays\n",
        "---\n",
        "NumPy - *Vektor, Mátrix, Tensor*."
      ]
    },
    {
      "cell_type": "code",
      "metadata": {
        "id": "nX-zNYsWbV59"
      },
      "source": [
        "import numpy as np"
      ],
      "execution_count": null,
      "outputs": []
    },
    {
      "cell_type": "code",
      "metadata": {
        "id": "nRJtfyQSbUcY"
      },
      "source": [
        "M = np.array([\n",
        "    [2, 3, 8],\n",
        "    [5, 7, 6]\n",
        "])\n",
        "N = np.array([\n",
        "    [1, 7],\n",
        "    [5, 6],\n",
        "    [2, 9],\n",
        "])"
      ],
      "execution_count": null,
      "outputs": []
    },
    {
      "cell_type": "code",
      "metadata": {
        "colab": {
          "base_uri": "https://localhost:8080/"
        },
        "id": "7vOSwyPFbYI-",
        "outputId": "d82a9b3f-86bf-4808-874e-a500d466d7ae"
      },
      "source": [
        "np.dot(M,N)"
      ],
      "execution_count": null,
      "outputs": [
        {
          "output_type": "execute_result",
          "data": {
            "text/plain": [
              "array([[ 33, 104],\n",
              "       [ 52, 131]])"
            ]
          },
          "metadata": {
            "tags": []
          },
          "execution_count": 5
        }
      ]
    },
    {
      "cell_type": "code",
      "metadata": {
        "colab": {
          "base_uri": "https://localhost:8080/"
        },
        "id": "NHZfUUgbbdmf",
        "outputId": "2e9c3d0f-4b5f-4d7c-968b-5375a1bd2b62"
      },
      "source": [
        "np.dot(N,M)"
      ],
      "execution_count": null,
      "outputs": [
        {
          "output_type": "execute_result",
          "data": {
            "text/plain": [
              "array([[37, 52, 50],\n",
              "       [40, 57, 76],\n",
              "       [49, 69, 70]])"
            ]
          },
          "metadata": {
            "tags": []
          },
          "execution_count": 6
        }
      ]
    },
    {
      "cell_type": "code",
      "metadata": {
        "colab": {
          "base_uri": "https://localhost:8080/"
        },
        "id": "wvry6V-dbmH_",
        "outputId": "e82b45e0-9aa2-49b1-c46d-7bd20ba8c390"
      },
      "source": [
        "image = np.array([[1,1,4],\n",
        "                  [1,2,5],\n",
        "                  [1,3,5],\n",
        "                  [1,4,7],\n",
        "                  [2,1,6],\n",
        "                  [2,2,5],\n",
        "                  [2,3,4],\n",
        "                  [2,4,5],\n",
        "                  [3,1,6],\n",
        "                  [3,2,7],\n",
        "                  [3,3,8],\n",
        "                  [3,4,7],\n",
        "                  [4,1,6],\n",
        "                  [4,2,5],\n",
        "                  [4,3,4],\n",
        "                  [4,4,3]])\n",
        "\n",
        "t = np.array([[1,0,0],\n",
        "              [0,1,0],\n",
        "              [0,0,1]])\n",
        "\n",
        "print(image.shape)\n",
        "print(t.shape)"
      ],
      "execution_count": null,
      "outputs": [
        {
          "output_type": "stream",
          "text": [
            "(16, 3)\n",
            "(3, 3)\n"
          ],
          "name": "stdout"
        }
      ]
    },
    {
      "cell_type": "code",
      "metadata": {
        "colab": {
          "base_uri": "https://localhost:8080/"
        },
        "id": "oS9ObhNTctYt",
        "outputId": "3b64509a-ab5f-4a4e-b91f-946090a6f0fb"
      },
      "source": [
        "np.dot(image,t)"
      ],
      "execution_count": null,
      "outputs": [
        {
          "output_type": "execute_result",
          "data": {
            "text/plain": [
              "array([[1, 1, 4],\n",
              "       [1, 2, 5],\n",
              "       [1, 3, 5],\n",
              "       [1, 4, 7],\n",
              "       [2, 1, 6],\n",
              "       [2, 2, 5],\n",
              "       [2, 3, 4],\n",
              "       [2, 4, 5],\n",
              "       [3, 1, 6],\n",
              "       [3, 2, 7],\n",
              "       [3, 3, 8],\n",
              "       [3, 4, 7],\n",
              "       [4, 1, 6],\n",
              "       [4, 2, 5],\n",
              "       [4, 3, 4],\n",
              "       [4, 4, 3]])"
            ]
          },
          "metadata": {
            "tags": []
          },
          "execution_count": 11
        }
      ]
    },
    {
      "cell_type": "code",
      "metadata": {
        "colab": {
          "base_uri": "https://localhost:8080/"
        },
        "id": "j0CAfiFOc5ZR",
        "outputId": "c02e5942-3602-4c99-f693-0f440b950b03"
      },
      "source": [
        "image[1]"
      ],
      "execution_count": null,
      "outputs": [
        {
          "output_type": "execute_result",
          "data": {
            "text/plain": [
              "array([1, 2, 5])"
            ]
          },
          "metadata": {
            "tags": []
          },
          "execution_count": 12
        }
      ]
    },
    {
      "cell_type": "code",
      "metadata": {
        "colab": {
          "base_uri": "https://localhost:8080/"
        },
        "id": "JKRSZn7fdQv7",
        "outputId": "60ff7a4f-824d-4e7f-985e-1d0262a8acef"
      },
      "source": [
        "image[1][2]"
      ],
      "execution_count": null,
      "outputs": [
        {
          "output_type": "execute_result",
          "data": {
            "text/plain": [
              "5"
            ]
          },
          "metadata": {
            "tags": []
          },
          "execution_count": 13
        }
      ]
    },
    {
      "cell_type": "markdown",
      "metadata": {
        "id": "T9Wypf3OfF42"
      },
      "source": [
        "# NumPy Arrays"
      ]
    },
    {
      "cell_type": "code",
      "metadata": {
        "colab": {
          "base_uri": "https://localhost:8080/"
        },
        "id": "h0WDQOXWdUa5",
        "outputId": "78f2e4d8-9c41-4eb9-8a57-d4da0232a58f"
      },
      "source": [
        "a1 = np.arange(1,13)\n",
        "\n",
        "a1"
      ],
      "execution_count": null,
      "outputs": [
        {
          "output_type": "execute_result",
          "data": {
            "text/plain": [
              "array([ 1,  2,  3,  4,  5,  6,  7,  8,  9, 10, 11, 12])"
            ]
          },
          "metadata": {
            "tags": []
          },
          "execution_count": 15
        }
      ]
    },
    {
      "cell_type": "code",
      "metadata": {
        "colab": {
          "base_uri": "https://localhost:8080/"
        },
        "id": "VPwDp0XHfN7d",
        "outputId": "cb442c37-7568-417b-8a9e-410f14b9ce77"
      },
      "source": [
        "# reshape\n",
        "a1.reshape(3,4)"
      ],
      "execution_count": null,
      "outputs": [
        {
          "output_type": "execute_result",
          "data": {
            "text/plain": [
              "array([[ 1,  2,  3,  4],\n",
              "       [ 5,  6,  7,  8],\n",
              "       [ 9, 10, 11, 12]])"
            ]
          },
          "metadata": {
            "tags": []
          },
          "execution_count": 17
        }
      ]
    },
    {
      "cell_type": "code",
      "metadata": {
        "colab": {
          "base_uri": "https://localhost:8080/"
        },
        "id": "WrFjrP0IfW71",
        "outputId": "f107473e-1cc3-4838-916a-c6cfb4be68c5"
      },
      "source": [
        "# reshape\n",
        "a1.reshape(-1, 4)"
      ],
      "execution_count": null,
      "outputs": [
        {
          "output_type": "execute_result",
          "data": {
            "text/plain": [
              "array([[ 1,  2,  3,  4],\n",
              "       [ 5,  6,  7,  8],\n",
              "       [ 9, 10, 11, 12]])"
            ]
          },
          "metadata": {
            "tags": []
          },
          "execution_count": 18
        }
      ]
    },
    {
      "cell_type": "code",
      "metadata": {
        "colab": {
          "base_uri": "https://localhost:8080/"
        },
        "id": "mU0NCSUEffa4",
        "outputId": "00741ff6-9905-4b29-dcc3-6320f1356566"
      },
      "source": [
        "# reshape\n",
        "a1.reshape(3, -1)"
      ],
      "execution_count": null,
      "outputs": [
        {
          "output_type": "execute_result",
          "data": {
            "text/plain": [
              "array([[ 1,  2,  3,  4],\n",
              "       [ 5,  6,  7,  8],\n",
              "       [ 9, 10, 11, 12]])"
            ]
          },
          "metadata": {
            "tags": []
          },
          "execution_count": 19
        }
      ]
    },
    {
      "cell_type": "code",
      "metadata": {
        "colab": {
          "base_uri": "https://localhost:8080/"
        },
        "id": "FqT3t5UOfkQA",
        "outputId": "f438e2ab-a029-481a-942e-057b176645ff"
      },
      "source": [
        "# reshape\n",
        "a1.reshape(4,3)"
      ],
      "execution_count": null,
      "outputs": [
        {
          "output_type": "execute_result",
          "data": {
            "text/plain": [
              "array([[ 1,  2,  3],\n",
              "       [ 4,  5,  6],\n",
              "       [ 7,  8,  9],\n",
              "       [10, 11, 12]])"
            ]
          },
          "metadata": {
            "tags": []
          },
          "execution_count": 20
        }
      ]
    },
    {
      "cell_type": "code",
      "metadata": {
        "colab": {
          "base_uri": "https://localhost:8080/"
        },
        "id": "DcTUyMWEfuXR",
        "outputId": "f514f60b-90c8-483a-8222-26d6dc5d1dee"
      },
      "source": [
        "# reshape\n",
        "a1.reshape(3, -1, order = 'F')"
      ],
      "execution_count": null,
      "outputs": [
        {
          "output_type": "execute_result",
          "data": {
            "text/plain": [
              "array([[ 1,  4,  7, 10],\n",
              "       [ 2,  5,  8, 11],\n",
              "       [ 3,  6,  9, 12]])"
            ]
          },
          "metadata": {
            "tags": []
          },
          "execution_count": 22
        }
      ]
    },
    {
      "cell_type": "code",
      "metadata": {
        "colab": {
          "base_uri": "https://localhost:8080/"
        },
        "id": "I2ce_tL3rLMW",
        "outputId": "b353164c-ba27-4df7-8a3c-5a598f002eff"
      },
      "source": [
        "# reshape\n",
        "a1.reshape(3, -1, order = 'C')"
      ],
      "execution_count": null,
      "outputs": [
        {
          "output_type": "execute_result",
          "data": {
            "text/plain": [
              "array([[ 1,  2,  3,  4],\n",
              "       [ 5,  6,  7,  8],\n",
              "       [ 9, 10, 11, 12]])"
            ]
          },
          "metadata": {
            "tags": []
          },
          "execution_count": 23
        }
      ]
    },
    {
      "cell_type": "markdown",
      "metadata": {
        "id": "TgyFCbB1rp01"
      },
      "source": [
        "# 3D array from 2D arrays"
      ]
    },
    {
      "cell_type": "code",
      "metadata": {
        "id": "-fXdP0-KrSh-"
      },
      "source": [
        "a1 = np.arange(1, 13).reshape(3, 4)\n",
        "a2 = np.arange(13, 25).reshape(3, 4)"
      ],
      "execution_count": null,
      "outputs": []
    },
    {
      "cell_type": "code",
      "metadata": {
        "colab": {
          "base_uri": "https://localhost:8080/"
        },
        "id": "FeNGMtqNsYVh",
        "outputId": "3dab1ca1-192e-4d18-9dcf-911efc0a171f"
      },
      "source": [
        "print(a1)\n",
        "print('')\n",
        "print(a2)"
      ],
      "execution_count": null,
      "outputs": [
        {
          "output_type": "stream",
          "text": [
            "[[ 1  2  3  4]\n",
            " [ 5  6  7  8]\n",
            " [ 9 10 11 12]]\n",
            "\n",
            "[[13 14 15 16]\n",
            " [17 18 19 20]\n",
            " [21 22 23 24]]\n"
          ],
          "name": "stdout"
        }
      ]
    },
    {
      "cell_type": "code",
      "metadata": {
        "colab": {
          "base_uri": "https://localhost:8080/"
        },
        "id": "bY0hYjCbrzCb",
        "outputId": "24a3451a-ecc0-42fe-bf61-c79df918d64d"
      },
      "source": [
        "# stack along axis 2\n",
        "np.stack((a1, a2), axis = 2)"
      ],
      "execution_count": null,
      "outputs": [
        {
          "output_type": "execute_result",
          "data": {
            "text/plain": [
              "array([[[ 1, 13],\n",
              "        [ 2, 14],\n",
              "        [ 3, 15],\n",
              "        [ 4, 16]],\n",
              "\n",
              "       [[ 5, 17],\n",
              "        [ 6, 18],\n",
              "        [ 7, 19],\n",
              "        [ 8, 20]],\n",
              "\n",
              "       [[ 9, 21],\n",
              "        [10, 22],\n",
              "        [11, 23],\n",
              "        [12, 24]]])"
            ]
          },
          "metadata": {
            "tags": []
          },
          "execution_count": 27
        }
      ]
    },
    {
      "cell_type": "code",
      "metadata": {
        "colab": {
          "base_uri": "https://localhost:8080/"
        },
        "id": "Uf4Fwn4ptGV7",
        "outputId": "30967a2c-a4ed-4e99-b0dd-96f53e6d0862"
      },
      "source": [
        "np.stack((a1, a2), axis = 2).shape"
      ],
      "execution_count": null,
      "outputs": [
        {
          "output_type": "execute_result",
          "data": {
            "text/plain": [
              "(3, 4, 2)"
            ]
          },
          "metadata": {
            "tags": []
          },
          "execution_count": 35
        }
      ]
    },
    {
      "cell_type": "code",
      "metadata": {
        "colab": {
          "base_uri": "https://localhost:8080/"
        },
        "id": "IgVoPjEqsUH-",
        "outputId": "369428bc-0909-40c5-c9a3-3e9b2a846dff"
      },
      "source": [
        "# stack along axis 1\n",
        "np.stack((a1, a2), axis = 1)"
      ],
      "execution_count": null,
      "outputs": [
        {
          "output_type": "execute_result",
          "data": {
            "text/plain": [
              "array([[[ 1,  2,  3,  4],\n",
              "        [13, 14, 15, 16]],\n",
              "\n",
              "       [[ 5,  6,  7,  8],\n",
              "        [17, 18, 19, 20]],\n",
              "\n",
              "       [[ 9, 10, 11, 12],\n",
              "        [21, 22, 23, 24]]])"
            ]
          },
          "metadata": {
            "tags": []
          },
          "execution_count": 31
        }
      ]
    },
    {
      "cell_type": "code",
      "metadata": {
        "colab": {
          "base_uri": "https://localhost:8080/"
        },
        "id": "wq-thVpYtBQz",
        "outputId": "f33a201d-498b-463d-c0cc-3f1224d5d761"
      },
      "source": [
        "np.stack((a1, a2), axis = 1).shape"
      ],
      "execution_count": null,
      "outputs": [
        {
          "output_type": "execute_result",
          "data": {
            "text/plain": [
              "(3, 2, 4)"
            ]
          },
          "metadata": {
            "tags": []
          },
          "execution_count": 34
        }
      ]
    },
    {
      "cell_type": "code",
      "metadata": {
        "colab": {
          "base_uri": "https://localhost:8080/"
        },
        "id": "S8G3zE2VsovD",
        "outputId": "b9e576e5-ac1d-4e24-e036-75b9cb19fc0b"
      },
      "source": [
        "# stack along axis 0\n",
        "np.stack((a1, a2))"
      ],
      "execution_count": null,
      "outputs": [
        {
          "output_type": "execute_result",
          "data": {
            "text/plain": [
              "array([[[ 1,  2,  3,  4],\n",
              "        [ 5,  6,  7,  8],\n",
              "        [ 9, 10, 11, 12]],\n",
              "\n",
              "       [[13, 14, 15, 16],\n",
              "        [17, 18, 19, 20],\n",
              "        [21, 22, 23, 24]]])"
            ]
          },
          "metadata": {
            "tags": []
          },
          "execution_count": 32
        }
      ]
    },
    {
      "cell_type": "code",
      "metadata": {
        "colab": {
          "base_uri": "https://localhost:8080/"
        },
        "id": "MdHjo9n4s11c",
        "outputId": "12396e3b-0fd7-424f-99fb-c4ec493a81ca"
      },
      "source": [
        "np.stack((a1,a2)).shape"
      ],
      "execution_count": null,
      "outputs": [
        {
          "output_type": "execute_result",
          "data": {
            "text/plain": [
              "(2, 3, 4)"
            ]
          },
          "metadata": {
            "tags": []
          },
          "execution_count": 33
        }
      ]
    },
    {
      "cell_type": "markdown",
      "metadata": {
        "id": "JlFGwwEGtWIR"
      },
      "source": [
        "# 2D matrix from 1D vector"
      ]
    },
    {
      "cell_type": "code",
      "metadata": {
        "id": "slJc9A0as7dv"
      },
      "source": [
        "a1 = np.arange(1, 13)\n",
        "a2 = np.arange(13, 25)"
      ],
      "execution_count": null,
      "outputs": []
    },
    {
      "cell_type": "code",
      "metadata": {
        "colab": {
          "base_uri": "https://localhost:8080/"
        },
        "id": "hlXDOTyTtk9q",
        "outputId": "7a49eec1-92a5-4118-d519-d3a526f757fd"
      },
      "source": [
        "np.stack((a1, a2))"
      ],
      "execution_count": null,
      "outputs": [
        {
          "output_type": "execute_result",
          "data": {
            "text/plain": [
              "array([[ 1,  2,  3,  4,  5,  6,  7,  8,  9, 10, 11, 12],\n",
              "       [13, 14, 15, 16, 17, 18, 19, 20, 21, 22, 23, 24]])"
            ]
          },
          "metadata": {
            "tags": []
          },
          "execution_count": 37
        }
      ]
    },
    {
      "cell_type": "code",
      "metadata": {
        "colab": {
          "base_uri": "https://localhost:8080/"
        },
        "id": "uEeHJWzgtnFs",
        "outputId": "44a09f9c-b5cf-4ffd-e5b1-f6c5c06e50bd"
      },
      "source": [
        "np.stack((a1, a2), axis = 1)"
      ],
      "execution_count": null,
      "outputs": [
        {
          "output_type": "execute_result",
          "data": {
            "text/plain": [
              "array([[ 1, 13],\n",
              "       [ 2, 14],\n",
              "       [ 3, 15],\n",
              "       [ 4, 16],\n",
              "       [ 5, 17],\n",
              "       [ 6, 18],\n",
              "       [ 7, 19],\n",
              "       [ 8, 20],\n",
              "       [ 9, 21],\n",
              "       [10, 22],\n",
              "       [11, 23],\n",
              "       [12, 24]])"
            ]
          },
          "metadata": {
            "tags": []
          },
          "execution_count": 38
        }
      ]
    },
    {
      "cell_type": "code",
      "metadata": {
        "colab": {
          "base_uri": "https://localhost:8080/"
        },
        "id": "RZq_MH1it12y",
        "outputId": "704582ff-8668-437c-a6ff-897d7f180476"
      },
      "source": [
        "np.stack((a1, a2), axis = 1).T"
      ],
      "execution_count": null,
      "outputs": [
        {
          "output_type": "execute_result",
          "data": {
            "text/plain": [
              "array([[ 1,  2,  3,  4,  5,  6,  7,  8,  9, 10, 11, 12],\n",
              "       [13, 14, 15, 16, 17, 18, 19, 20, 21, 22, 23, 24]])"
            ]
          },
          "metadata": {
            "tags": []
          },
          "execution_count": 39
        }
      ]
    },
    {
      "cell_type": "markdown",
      "metadata": {
        "id": "QxYAUAo9uPbQ"
      },
      "source": [
        "# Concatenate two vector"
      ]
    },
    {
      "cell_type": "code",
      "metadata": {
        "colab": {
          "base_uri": "https://localhost:8080/"
        },
        "id": "P8phXh0mt9S-",
        "outputId": "c29083d6-93b3-43ac-e4c1-9b827c6d06c5"
      },
      "source": [
        "np.hstack((a1, a2))"
      ],
      "execution_count": null,
      "outputs": [
        {
          "output_type": "execute_result",
          "data": {
            "text/plain": [
              "array([ 1,  2,  3,  4,  5,  6,  7,  8,  9, 10, 11, 12, 13, 14, 15, 16, 17,\n",
              "       18, 19, 20, 21, 22, 23, 24])"
            ]
          },
          "metadata": {
            "tags": []
          },
          "execution_count": 41
        }
      ]
    },
    {
      "cell_type": "code",
      "metadata": {
        "id": "sSzuTxy7uB80"
      },
      "source": [
        ""
      ],
      "execution_count": null,
      "outputs": []
    },
    {
      "cell_type": "markdown",
      "metadata": {
        "id": "HBYVKFwwPPjX"
      },
      "source": [
        "\n",
        "<a name=\"felhasznalt-irodalom\"></a>\n",
        "\n",
        "[vissza a tartalomhoz](#tartalom)\n",
        "\n",
        "<a href=\"#tartalom\"><font color='white'>&nbsp;&nbsp;&nbsp;&nbsp;Main page</font></a>\n",
        "\n",
        "## Felhasznált irodalom és internetes cimek <a href=\"#tartalom\"><font color='white'>&nbsp;&nbsp;&nbsp;&nbsp;Main page</font></a>\n",
        "\n",
        "\n",
        "Numpy Arrays in Python\n",
        "<br>\n",
        "https://towardsdatascience.com/reshaping-numpy-arrays-in-python-a-step-by-step-pictorial-tutorial-aed5f471cf0b\n",
        "\n",
        "\n",
        "Chapter 1. Vectors, Matrices, and Arrays\n",
        "<br>\n",
        "https://www.oreilly.com/library/view/machine-learning-with/9781491989371/ch01.html\n",
        "\n",
        "Math is Fun - Vectors\n",
        "<br>\n",
        "https://www.mathsisfun.com/algebra/vectors.html\n",
        "\n",
        "\n",
        "Wikipedia - 'Euclidean Vector'\n",
        "<br>\n",
        "https://en.wikipedia.org/wiki/Euclidean_vector\n",
        "\n"
      ]
    },
    {
      "cell_type": "code",
      "metadata": {
        "id": "aCU-ZPP6PQUH"
      },
      "source": [
        ""
      ],
      "execution_count": null,
      "outputs": []
    }
  ]
}