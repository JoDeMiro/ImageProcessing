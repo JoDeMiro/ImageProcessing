{
  "nbformat": 4,
  "nbformat_minor": 0,
  "metadata": {
    "kernelspec": {
      "display_name": "Python 3",
      "language": "python",
      "name": "python3"
    },
    "language_info": {
      "codemirror_mode": {
        "name": "ipython",
        "version": 3
      },
      "file_extension": ".py",
      "mimetype": "text/x-python",
      "name": "python",
      "nbconvert_exporter": "python",
      "pygments_lexer": "ipython3",
      "version": "3.7.7"
    },
    "colab": {
      "name": "99 Lineáris Algebra - Vektorok.ipynb",
      "provenance": [],
      "collapsed_sections": [],
      "include_colab_link": true
    }
  },
  "cells": [
    {
      "cell_type": "markdown",
      "metadata": {
        "id": "view-in-github",
        "colab_type": "text"
      },
      "source": [
        "<a href=\"https://colab.research.google.com/github/JoDeMiro/ImageProcessing/blob/main/99_Line%C3%A1ris_Algebra_Vektorok.ipynb\" target=\"_parent\"><img src=\"https://colab.research.google.com/assets/colab-badge.svg\" alt=\"Open In Colab\"/></a>"
      ]
    },
    {
      "cell_type": "markdown",
      "metadata": {
        "id": "vTVRAJPVrAs-"
      },
      "source": [
        "# Lineáris algebra - Vektorok\n",
        "---\n",
        "Régi Linalg jegyzetem - *Vektorok*."
      ]
    },
    {
      "cell_type": "code",
      "metadata": {
        "id": "xbWr_-uurAtC"
      },
      "source": [
        "import numpy as np"
      ],
      "execution_count": null,
      "outputs": []
    },
    {
      "cell_type": "markdown",
      "metadata": {
        "id": "ja1TnGY7rAtD"
      },
      "source": [
        "# 1. Mi a vektor?\n",
        "---\n",
        "A vektor $\\large \\vec{v}$ matematikia fogalom amelynek van *nagysága* és *iránya*.\n",
        "\n",
        "![vectors](https://github.com/JoDeMiro/ImageProcessing/blob/main/images/makrdown/linear-algebra_vectors.jpg?raw=true)\n",
        "\n"
      ]
    },
    {
      "cell_type": "markdown",
      "metadata": {
        "id": "1rjZHja0rAtE"
      },
      "source": [
        "# 2. Vektor műveletek\n",
        "---\n",
        "Bármely vektorra alakalmazhatóak $\\large \\mathbb{R}^n$.\n",
        "\n",
        "## 2.1. Összeadás\n",
        "---\n",
        "Két vektor $\\large \\vec{u}$ és $\\large \\vec{v}$ összeadásánál a megfeleő elemeket összeadjuk.\n",
        "\n",
        "$$ \\large\n",
        "\\vec{u}+\\vec{v} = \n",
        "\\begin{bmatrix}\n",
        "u_1 \\\\ u_2 \\\\ \\vdots \\\\ u_n\n",
        "\\end{bmatrix} +\n",
        "\\begin{bmatrix}\n",
        "v_1 \\\\ v_2 \\\\ \\vdots \\\\ v_n\n",
        "\\end{bmatrix} =\n",
        "\\begin{bmatrix}\n",
        "v_1 + u_1 \\\\ v_2 + u_2 \\\\ \\vdots \\\\ v_n + u_n\n",
        "\\end{bmatrix}\n",
        "$$\n",
        "\n",
        "\n",
        "![vectors](https://github.com/JoDeMiro/ImageProcessing/blob/main/images/makrdown/linear-algebra_vectors_addition.jpg?raw=true)\n",
        "\n",
        "\n",
        "Például:\n",
        "\n",
        "$$ \\large\n",
        "\\vec{u} =\n",
        "\\begin{bmatrix}\n",
        "3 \\\\ 7\n",
        "\\end{bmatrix}\n",
        "\\quad , \\quad\n",
        "\\vec{v} =\n",
        "\\begin{bmatrix}\n",
        "2 \\\\ 5\n",
        "\\end{bmatrix}\n",
        "$$\n",
        "\n",
        "$$ \\large\n",
        "\\vec{u} + \\vec{v} =\n",
        "\\begin{bmatrix}\n",
        "3 + 2 \\\\ 7 + 5\n",
        "\\end{bmatrix} =\n",
        "\\begin{bmatrix}\n",
        "5 \\\\ 12\n",
        "\\end{bmatrix}\n",
        "$$"
      ]
    },
    {
      "cell_type": "code",
      "metadata": {
        "colab": {
          "base_uri": "https://localhost:8080/"
        },
        "id": "1OhzVqltrAtF",
        "outputId": "19f887d0-5c1e-4a02-e430-1b6be4e276f5"
      },
      "source": [
        "u = np.array([[3, 7]])\n",
        "v = np.array([[2, 5]])\n",
        "print(u.T, end=\" = u\\n\\n\")\n",
        "print(v.T, end=\" = v\\n\\n\")\n",
        "print((u + v).T, end=\" = u + v\")"
      ],
      "execution_count": null,
      "outputs": [
        {
          "output_type": "stream",
          "text": [
            "[[3]\n",
            " [7]] = u\n",
            "\n",
            "[[2]\n",
            " [5]] = v\n",
            "\n",
            "[[ 5]\n",
            " [12]] = u + v"
          ],
          "name": "stdout"
        }
      ]
    },
    {
      "cell_type": "markdown",
      "metadata": {
        "id": "wq201jyurAtH"
      },
      "source": [
        "## 2.2. Kivonás\n",
        "---\n",
        "Ugyan az mint az összeadásnál csak itt kivonjuk $\\large \\vec{u}$ és $\\large \\vec{v}$ a megfelelő elemeket.\n",
        "\n",
        "$$ \\large\n",
        "\\vec{u}-\\vec{v} = \n",
        "\\begin{bmatrix}\n",
        "u_1 \\\\ u_2 \\\\ \\vdots \\\\ u_n\n",
        "\\end{bmatrix} -\n",
        "\\begin{bmatrix}\n",
        "v_1 \\\\ v_2 \\\\ \\vdots \\\\ v_n\n",
        "\\end{bmatrix} =\n",
        "\\begin{bmatrix}\n",
        "v_1 - u_1 \\\\ v_2 - u_2 \\\\ \\vdots \\\\ v_n - u_n\n",
        "\\end{bmatrix}\n",
        "$$\n",
        "\n",
        "![vectors](https://github.com/JoDeMiro/ImageProcessing/blob/main/images/makrdown/linear-algebra_vectors_subtraction.jpg?raw=true)\n",
        "\n",
        "Példa:\n",
        "\n",
        "$$ \\large\n",
        "\\vec{u} =\n",
        "\\begin{bmatrix}\n",
        "3 \\\\ 7\n",
        "\\end{bmatrix}\n",
        "\\quad , \\quad\n",
        "\\vec{v} =\n",
        "\\begin{bmatrix}\n",
        "2 \\\\ 5\n",
        "\\end{bmatrix}\n",
        "$$\n",
        "\n",
        "$$ \\large\n",
        "\\vec{u} - \\vec{v} =\n",
        "\\begin{bmatrix}\n",
        "3 - 2 \\\\ 7 - 5\n",
        "\\end{bmatrix} =\n",
        "\\begin{bmatrix}\n",
        "1 \\\\ 2\n",
        "\\end{bmatrix}\n",
        "$$"
      ]
    },
    {
      "cell_type": "code",
      "metadata": {
        "colab": {
          "base_uri": "https://localhost:8080/"
        },
        "id": "yf_bDm2erAtI",
        "outputId": "6415a2b2-671f-4b25-cd5b-9d773c19fdf4"
      },
      "source": [
        "u = np.array([[3, 7]])\n",
        "v = np.array([[2, 5]])\n",
        "print(u.T, end=\" = u\\n\\n\")\n",
        "print(v.T, end=\" = v\\n\\n\")\n",
        "print((u - v).T, end=\" = u - v\")"
      ],
      "execution_count": null,
      "outputs": [
        {
          "output_type": "stream",
          "text": [
            "[[3]\n",
            " [7]] = u\n",
            "\n",
            "[[2]\n",
            " [5]] = v\n",
            "\n",
            "[[1]\n",
            " [2]] = u - v"
          ],
          "name": "stdout"
        }
      ]
    },
    {
      "cell_type": "markdown",
      "metadata": {
        "id": "8i0j6MrHrAtJ"
      },
      "source": [
        "## 2.3. Skalárra való szorzás\n",
        "---\n",
        "A vektor elemeit egyenként megszorozzuk a skalárral $\\large \\alpha$. Ugyanez a szabály érvényes az osztásra is.\n",
        "\n",
        "$$ \\large\n",
        "\\alpha\\vec{u} = \n",
        "\\alpha  \\cdot\n",
        "\\begin{bmatrix}\n",
        "u_1 \\\\ u_2 \\\\ \\vdots \\\\ u_n\n",
        "\\end{bmatrix} =\n",
        "\\begin{bmatrix}\n",
        "\\alpha\\cdot u_1 \\\\ \\alpha\\cdot u_2 \\\\ \\vdots \\\\ \\alpha\\cdot u_n\n",
        "\\end{bmatrix}\n",
        "$$\n",
        "\n",
        "\n",
        "![vectors](https://github.com/JoDeMiro/ImageProcessing/blob/main/images/makrdown/linear-algebra_vectors_scalar_multiplication.jpg?raw=true)\n",
        "\n",
        "\n",
        "\n",
        "Példa\n",
        "\n",
        "$$ \\large\n",
        "\\alpha = 2\n",
        "\\quad , \\quad\n",
        "\\vec{u} =\n",
        "\\begin{bmatrix}\n",
        "3 \\\\ 7\n",
        "\\end{bmatrix}\n",
        "$$\n",
        "\n",
        "$$ \\large\n",
        "\\alpha\\cdot\\vec{u} =\n",
        "\\begin{bmatrix}\n",
        "2 \\cdot 3 \\\\ 2 \\cdot 7\n",
        "\\end{bmatrix} =\n",
        "\\begin{bmatrix}\n",
        "6 \\\\ 14\n",
        "\\end{bmatrix}\n",
        "$$"
      ]
    },
    {
      "cell_type": "code",
      "metadata": {
        "colab": {
          "base_uri": "https://localhost:8080/"
        },
        "id": "CPcVzhwHrAtK",
        "outputId": "41347c53-b090-453e-b7f9-8ddb1f460dd1"
      },
      "source": [
        "a = 2\n",
        "u = np.array([[3, 7]])\n",
        "print(a, end=\" = a\\n\\n\")\n",
        "print(u.T, end=\" = u\\n\\n\")\n",
        "print(a*u.T, end=\" = au\")"
      ],
      "execution_count": null,
      "outputs": [
        {
          "output_type": "stream",
          "text": [
            "2 = a\n",
            "\n",
            "[[3]\n",
            " [7]] = u\n",
            "\n",
            "[[ 6]\n",
            " [14]] = au"
          ],
          "name": "stdout"
        }
      ]
    },
    {
      "cell_type": "markdown",
      "metadata": {
        "id": "AP_ln7dkrAtL"
      },
      "source": [
        "# 3. Dot product\n",
        "---\n",
        "Bár a vektorok skaláris szorzása számos tekintetben hasonlít a számok szorzására, lényeges különbség az, hogy míg két szám szorzata ismét szám, két vektor skaláris szorzata nem vektor, hanem szám (skalár, innen ered az elnevezés)\n",
        "\n",
        "https://hu.wikipedia.org/wiki/Skal%C3%A1ris_szorzat\n",
        "\n",
        "$$ \\large\n",
        "\\vec{u} \\cdot \\vec{v} = \n",
        "\\begin{bmatrix}\n",
        "u_1 \\\\ u_2 \\\\ \\vdots \\\\ u_n\n",
        "\\end{bmatrix} \\cdot\n",
        "\\begin{bmatrix}\n",
        "v_1 \\\\ v_2 \\\\ \\vdots \\\\ v_n\n",
        "\\end{bmatrix} =\n",
        "\\sum_i^n u_i \\cdot v_i\n",
        "$$\n",
        "\n",
        "$$ \\large\n",
        "\\sum_i^n u_i \\cdot v_i =\n",
        "u_1 \\cdot v_1 + u_2 \\cdot v_2 + ... + u_n \\cdot v_n\n",
        "$$\n",
        "\n",
        "Példa:\n",
        "\n",
        "$$ \\large\n",
        "\\vec{u} =\n",
        "\\begin{bmatrix}\n",
        "3 \\\\ 7\n",
        "\\end{bmatrix}\n",
        "\\quad , \\quad\n",
        "\\vec{v} =\n",
        "\\begin{bmatrix}\n",
        "2 \\\\ 5\n",
        "\\end{bmatrix}\n",
        "$$\n",
        "\n",
        "$$ \\large\n",
        "\\begin{aligned}\n",
        "\\vec{u} \\cdot \\vec{v} &= 3 \\cdot 2 + 7 \\cdot 5 \\\\\n",
        "&= 6 + 35 \\\\\n",
        "&= 41\n",
        "\\end{aligned}\n",
        "$$"
      ]
    },
    {
      "cell_type": "code",
      "metadata": {
        "colab": {
          "base_uri": "https://localhost:8080/"
        },
        "id": "cDCX4Z6SrAtM",
        "outputId": "64a643a7-5e05-4126-fb59-206bd64ffb8e"
      },
      "source": [
        "u = np.array([3, 7])\n",
        "v = np.array([2, 5])\n",
        "print(u, end=\" = u\\n\\n\")\n",
        "print(v, end=\" = v\\n\\n\")\n",
        "print(np.dot(u, v), end=\" = u.v\")"
      ],
      "execution_count": null,
      "outputs": [
        {
          "output_type": "stream",
          "text": [
            "[3 7] = u\n",
            "\n",
            "[2 5] = v\n",
            "\n",
            "41 = u.v"
          ],
          "name": "stdout"
        }
      ]
    },
    {
      "cell_type": "markdown",
      "metadata": {
        "id": "E-0qWopCrAtM"
      },
      "source": [
        "## 3.1 Egység vektor\n",
        "---\n",
        "Olyan vektor, melynek hossza 1 egység. Tetszőleges, nullától különböző a vektor esetén az vektor egységvektor, amelynek iránya ugyanaz, mint az eredeti a vektoré.\n",
        "\n",
        "$$ \\large\n",
        "\\|\\vec{u}\\|_2 =\n",
        "\\left[ \\sum_i^n u_i^2 \\right]^{\\frac{1}{2}}=\\sqrt{u_1^2+u_2^2+...+u_n^2}\n",
        "$$\n",
        "\n",
        "_\n",
        "\n",
        "$$ \\large\n",
        "\\hat{u}=\\frac{\\vec{u}}{\\|\\vec{u}\\|}\n",
        "$$\n",
        "\n",
        "\n",
        "![vectors](https://github.com/JoDeMiro/ImageProcessing/blob/main/images/makrdown/linear-algebra_vectors_unit_vector.jpg?raw=true)\n",
        "\n",
        "\n",
        "\n",
        "Példa:\n",
        "\n",
        "$$ \\large\n",
        "\\vec{u} = [3 \\quad 4]\n",
        "$$\n",
        "\n",
        "$$ \\large\n",
        "\\begin{aligned}\n",
        "\\|\\vec{u}\\| &= \\sqrt{3^2+4^2} \\\\\n",
        "&= \\sqrt{9+16} \\\\\n",
        "&= 5\n",
        "\\end{aligned}\n",
        "$$\n",
        "\n",
        "$$ \\large\n",
        "\\frac{\\vec{u}}{\\|\\vec{u}\\|} =\n",
        "\\left[ \\frac{3}{5} \\quad \\frac{4}{5} \\right] =\n",
        "[0.6 \\quad 0.8]\n",
        "$$"
      ]
    },
    {
      "cell_type": "code",
      "metadata": {
        "colab": {
          "base_uri": "https://localhost:8080/"
        },
        "id": "OWf9tE4BrAtO",
        "outputId": "f6835b1a-27a9-4a48-eac6-c485f4f5f3e0"
      },
      "source": [
        "u = np.array([3, 4])\n",
        "u_ = np.sum(u**2)**0.5\n",
        "print(u, end=\" = u\\n\\n\")\n",
        "print(u_, end=\" = ||u||\\n\\n\")\n",
        "print(u/u_, end=\" = û\")"
      ],
      "execution_count": null,
      "outputs": [
        {
          "output_type": "stream",
          "text": [
            "[3 4] = u\n",
            "\n",
            "5.0 = ||u||\n",
            "\n",
            "[0.6 0.8] = û"
          ],
          "name": "stdout"
        }
      ]
    },
    {
      "cell_type": "markdown",
      "metadata": {
        "id": "NGPyLKQ6rAtO"
      },
      "source": [
        "## 3.2. Vektorok között szög\n",
        "---\n",
        "A skaláris szorázból adódik, hogy *skaláris szorzás*:\n",
        "\n",
        "\n",
        "$$ \\large\n",
        "\\vec{u} \\cdot \\vec{v} = \\|\\vec{u}\\| \\|\\vec{v}\\| \\cos{\\theta}\n",
        "$$\n",
        "\n",
        "tehát a bezárt szög,\n",
        "\n",
        "$$ \\large\n",
        "\\theta=\\cos^{-1} \\frac{\\vec{u} \\cdot \\vec{v}}{\\|\\vec{u}\\| \\|\\vec{v}\\|}\n",
        "$$\n",
        "\n",
        "![vectors](https://github.com/JoDeMiro/ImageProcessing/blob/main/images/makrdown/linear-algebra_vectors_angle.jpg?raw=true)\n",
        "\n",
        "Például:\n",
        "\n",
        "$$ \\large\n",
        "\\vec{u} =\n",
        "\\begin{bmatrix}\n",
        "2 \\\\ 1\n",
        "\\end{bmatrix}\n",
        "\\quad , \\quad\n",
        "\\vec{v} =\n",
        "\\begin{bmatrix}\n",
        "3 \\\\ 3\n",
        "\\end{bmatrix}\n",
        "$$\n",
        "\n",
        "$$ \\large\n",
        "\\begin{aligned}\n",
        "\\angle (\\vec{u}, \\vec{v}) = \\theta\n",
        "&= \\arccos \\frac{2 \\cdot 3 + 1 \\cdot 3}{\\sqrt{2^2+1^2} \\sqrt{3^2+3^2}} \\\\\n",
        "&= \\arccos \\frac{9}{\\sqrt{5} \\sqrt{18}} \\\\\n",
        "&\\approx 0.32 \\text{rad} \\quad \\approx 18.43°\n",
        "\\end{aligned}\n",
        "$$"
      ]
    },
    {
      "cell_type": "code",
      "metadata": {
        "colab": {
          "base_uri": "https://localhost:8080/"
        },
        "id": "FLQZmCVmrAtP",
        "outputId": "6fdaef72-c02a-4153-969b-9fd934cb3432"
      },
      "source": [
        "u = np.array([2, 1])\n",
        "v = np.array([3, 3])\n",
        "uv = np.dot(u, v)\n",
        "u_ = np.sum(u**2)**0.5\n",
        "v_ = np.sum(v**2)**0.5\n",
        "rad = np.arccos(uv/(u_*v_))\n",
        "print(u, end=\" = u\\n\\n\")\n",
        "print(v, end=\" = v\\n\\n\")\n",
        "print(f'{np.rad2deg(rad):.02f}', end=\" = θ\")"
      ],
      "execution_count": null,
      "outputs": [
        {
          "output_type": "stream",
          "text": [
            "[2 1] = u\n",
            "\n",
            "[3 3] = v\n",
            "\n",
            "18.43 = θ"
          ],
          "name": "stdout"
        }
      ]
    },
    {
      "cell_type": "markdown",
      "metadata": {
        "id": "cxWrZKLkrAtR"
      },
      "source": [
        "## 3.3. Párhuzamosság\n",
        "---\n",
        "Két vektor **párhuzamos**, $\\large \\vec{u} // \\vec{v}$ ha van olyan $k$ érték amelyel leírható az alábbi egyenlőség:\n",
        "\n",
        "$$ \\large\n",
        "\\vec{u} = k\\vec{v}\n",
        "$$\n",
        "\n",
        "Másképpen felírva\n",
        "\n",
        "$$ \\large\n",
        "\\frac{u_1}{v_1} = \\frac{u_2}{v_2} = ... = \\frac{u_n}{v_n} = k\n",
        "$$\n",
        "\n",
        "Két vektor párhuzamos, ha elemeik arányosak egymással.\n",
        "\n",
        "![vectors](https://github.com/JoDeMiro/ImageProcessing/blob/main/images/makrdown/linear-algebra_vectors_parallel.jpg?raw=true)\n",
        "\n",
        "Példa:\n",
        "\n",
        "$$ \\large\n",
        "\\vec{u} =\n",
        "\\begin{bmatrix}\n",
        "2 \\\\ 3\n",
        "\\end{bmatrix}\n",
        "\\quad , \\quad\n",
        "\\vec{v} =\n",
        "\\begin{bmatrix}\n",
        "6 \\\\ 9\n",
        "\\end{bmatrix}\n",
        "$$\n",
        "\n",
        "$$ \\large\n",
        "\\frac{2}{6} = \\frac{3}{9} = \\frac{1}{3}\n",
        "$$"
      ]
    },
    {
      "cell_type": "code",
      "metadata": {
        "colab": {
          "base_uri": "https://localhost:8080/"
        },
        "id": "52aSq7JtrAtR",
        "outputId": "c5ee873e-40f9-409e-db55-b205434fcf71"
      },
      "source": [
        "u = np.array([2, 3])\n",
        "v = np.array([6, 9])\n",
        "print(u, end=\" = u\\n\\n\")\n",
        "print(v, end=\" = v\\n\\n\")\n",
        "print(f'{u/v}', end=\" = k\")"
      ],
      "execution_count": null,
      "outputs": [
        {
          "output_type": "stream",
          "text": [
            "[2 3] = u\n",
            "\n",
            "[6 9] = v\n",
            "\n",
            "[0.33333333 0.33333333] = k"
          ],
          "name": "stdout"
        }
      ]
    },
    {
      "cell_type": "markdown",
      "metadata": {
        "id": "WtJv-GGurAtS"
      },
      "source": [
        "Két vektor **merőleges, vagy ortogonális** - $\\large \\vec{u} \\bot \\vec{v}$ a közöttük lévő $\\theta$ szög 90° vagy skaláris szorzatuk 0.\n",
        "\n",
        "$$ \\large\n",
        "\\vec{u} \\bot \\vec{v} \\Rightarrow \\vec{u} \\cdot \\vec{v} = 0\n",
        "$$\n",
        "\n",
        "\n",
        "![vectors](https://github.com/JoDeMiro/ImageProcessing/blob/main/images/makrdown/linear-algebra_vectors_orthogonal.jpg?raw=true)\n",
        "\n",
        "\n",
        "Példa:\n",
        "\n",
        "$$ \\large\n",
        "\\vec{u} =\n",
        "\\begin{bmatrix}\n",
        "2 \\\\ 1\n",
        "\\end{bmatrix}\n",
        "\\quad , \\quad\n",
        "\\vec{v} =\n",
        "\\begin{bmatrix}\n",
        "-2 \\\\ 4\n",
        "\\end{bmatrix}\n",
        "$$\n",
        "\n",
        "A skaláris szorzatuk alapján:\n",
        "\n",
        "$$ \\large\n",
        "\\vec{u} \\cdot \\vec{v} = 2 \\cdot (-2) + 1 \\cdot 4 = 0\n",
        "$$\n",
        "\n",
        "vagy $\\theta$ meghatározásával:\n",
        "\n",
        "$$ \\large\n",
        "\\begin{aligned}\n",
        "\\angle (\\vec{u}, \\vec{v}) = \\theta\n",
        "&= \\arccos \\frac{2 \\cdot (-2) + 1 \\cdot 4}{\\sqrt{2^2+1^2} \\sqrt{(-2)^2+4^2}} \\\\\n",
        "&= \\arccos \\frac{0}{\\sqrt{5} \\sqrt{20}} \\\\\n",
        "&\\approx 1.57 \\text{rad} \\quad = 90°\n",
        "\\end{aligned}\n",
        "$$"
      ]
    },
    {
      "cell_type": "code",
      "metadata": {
        "colab": {
          "base_uri": "https://localhost:8080/"
        },
        "id": "-tD9JkuYrAtS",
        "outputId": "6b2849c2-6828-4c38-e4ac-dab3a1240709"
      },
      "source": [
        "u = np.array([2, 1])\n",
        "v = np.array([-2, 4])\n",
        "uv = np.dot(u, v)\n",
        "u_ = np.sum(u**2)**0.5\n",
        "v_ = np.sum(v**2)**0.5\n",
        "rad = np.arccos(uv/(u_*v_))\n",
        "print(u, end=\" = u\\n\\n\")\n",
        "print(v, end=\" = v\\n\\n\")\n",
        "print(uv, end=\" = u.v\\n\\n\")\n",
        "print(f'{np.rad2deg(rad):.02f}', end=\" = θ\")"
      ],
      "execution_count": null,
      "outputs": [
        {
          "output_type": "stream",
          "text": [
            "[2 1] = u\n",
            "\n",
            "[-2  4] = v\n",
            "\n",
            "0 = u.v\n",
            "\n",
            "90.00 = θ"
          ],
          "name": "stdout"
        }
      ]
    },
    {
      "cell_type": "markdown",
      "metadata": {
        "id": "E-u7BJsW0uA6"
      },
      "source": [
        "\n",
        "<a name=\"felhasznalt-irodalom\"></a>\n",
        "\n",
        "[vissza a tartalomhoz](#tartalom)\n",
        "\n",
        "<a href=\"#tartalom\"><font color='white'>&nbsp;&nbsp;&nbsp;&nbsp;Main page</font></a>\n",
        "\n",
        "## Felhasznált irodalom és internetes cimek <a href=\"#tartalom\"><font color='white'>&nbsp;&nbsp;&nbsp;&nbsp;Main page</font></a>\n",
        "\n",
        "\n",
        "Wikipedia - 'Skaláris szorzat'\n",
        "<br>\n",
        "https://hu.wikipedia.org/wiki/Skal%C3%A1ris_szorzat\n",
        "\n",
        "\n",
        "Vektor\n",
        "<br>\n",
        "https://www.mimi.hu/matematika/derivalt.html#maintitle\n",
        "\n",
        "\n",
        "BME - Fizika Tanszék - Előadás anyag\n",
        "<br>\n",
        "http://www.fke.bme.hu/oktatas/kornyezetMernok/vektorok.pdf\n",
        "\n",
        "\n",
        "Math is Fun - Vectors\n",
        "<br>\n",
        "https://www.mathsisfun.com/algebra/vectors.html\n",
        "\n",
        "\n",
        "Wikipedia - 'Euclidean Vector'\n",
        "<br>\n",
        "https://en.wikipedia.org/wiki/Euclidean_vector\n",
        "\n"
      ]
    },
    {
      "cell_type": "code",
      "metadata": {
        "id": "3gUGnkRf1NyA"
      },
      "source": [
        ""
      ],
      "execution_count": null,
      "outputs": []
    }
  ]
}